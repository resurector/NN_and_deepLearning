{
  "nbformat": 4,
  "nbformat_minor": 0,
  "metadata": {
    "accelerator": "GPU",
    "colab": {
      "name": "cnn_578.ipynb",
      "provenance": [],
      "collapsed_sections": [],
      "toc_visible": true
    },
    "kernelspec": {
      "display_name": "Python 3",
      "language": "python",
      "name": "python3"
    },
    "language_info": {
      "codemirror_mode": {
        "name": "ipython",
        "version": 3
      },
      "file_extension": ".py",
      "mimetype": "text/x-python",
      "name": "python",
      "nbconvert_exporter": "python",
      "pygments_lexer": "ipython3",
      "version": "3.7.4"
    }
  },
  "cells": [
    {
      "cell_type": "markdown",
      "metadata": {
        "colab_type": "text",
        "id": "DSPCom-KmApV"
      },
      "source": [
        "# CSC 578 NN&DL Spring 2020\n",
        "## HW\\#6 - Image Classification using CNN\n"
      ]
    },
    {
      "cell_type": "markdown",
      "metadata": {
        "colab_type": "text",
        "id": "qLGkt5qiyz4E"
      },
      "source": [
        "This code is slightly modified from the TensorFlow tutorial  [\"Convolutional Neural Network (CNN)\"](https://www.tensorflow.org/tutorials/images/cnn) for the purpose of our homework. The code first downloads the data, the [CIFAR-10 dataset](https://www.cs.toronto.edu/~kriz/cifar.html) and partitions the training set into training and validation sets.  Then the code builds a CNN network and trains the network with the training set. Finally the code evaluates the network performance using the validation set.\n",
        "<p>\n",
        "Note that there are <b>three places</b> in the code, indicated with <b>**IMPORTANT**</b>, where you choose the syntax that works for the version of TensorFlow (1 or 2) installed on your platform.\n"
      ]
    },
    {
      "cell_type": "markdown",
      "metadata": {
        "colab_type": "text",
        "id": "m7KBpffWzlxH"
      },
      "source": [
        "### Import TensorFlow\n",
        "**\\*\\*IMPORTANT (1) \\*\\*** Uncomment either import line(s) for the version of TensorFlow (TF1 or TF2) of your platform."
      ]
    },
    {
      "cell_type": "code",
      "metadata": {
        "colab_type": "code",
        "id": "iAve6DCL4JH4",
        "colab": {}
      },
      "source": [
        "import matplotlib.pyplot as plt\n",
        "\n",
        "import tensorflow as tf\n",
        "\n",
        "## For TF version 2 (just one line)\n",
        "from tensorflow.keras import datasets, layers, models\n",
        "\n",
        "## For TF version 1 (need both lines)\n",
        "#from tensorflow import keras\n",
        "#from keras import datasets, layers, models"
      ],
      "execution_count": 0,
      "outputs": []
    },
    {
      "cell_type": "code",
      "metadata": {
        "colab_type": "code",
        "id": "Qm1pLTh2bvaa",
        "outputId": "3fee1f56-91e5-4e4e-eef7-23c04b2ef371",
        "colab": {
          "base_uri": "https://localhost:8080/",
          "height": 34
        }
      },
      "source": [
        "print(tf.__version__) # 5/2020 nt: check the TF version!"
      ],
      "execution_count": 2,
      "outputs": [
        {
          "output_type": "stream",
          "text": [
            "2.2.0\n"
          ],
          "name": "stdout"
        }
      ]
    },
    {
      "cell_type": "markdown",
      "metadata": {
        "colab_type": "text",
        "id": "jRFxccghyMVo"
      },
      "source": [
        "### Download and prepare the CIFAR10 dataset\n",
        "\n",
        "\n",
        "The CIFAR10 dataset contains 60,000 color images in 10 classes, with 6,000 images in each class. The dataset is (pre-)divided into 50,000 training images and 10,000 testing images."
      ]
    },
    {
      "cell_type": "code",
      "metadata": {
        "colab_type": "code",
        "id": "JWoEqyMuXFF4",
        "outputId": "51a713a0-7401-4087-f1dc-062f95f41e32",
        "colab": {
          "base_uri": "https://localhost:8080/",
          "height": 51
        }
      },
      "source": [
        "# Download the data from the repository site.\n",
        "(train_all_images, train_all_labels), (test_images, test_labels) = datasets.cifar10.load_data()"
      ],
      "execution_count": 3,
      "outputs": [
        {
          "output_type": "stream",
          "text": [
            "Downloading data from https://www.cs.toronto.edu/~kriz/cifar-10-python.tar.gz\n",
            "170500096/170498071 [==============================] - 6s 0us/step\n"
          ],
          "name": "stdout"
        }
      ]
    },
    {
      "cell_type": "code",
      "metadata": {
        "colab_type": "code",
        "id": "IXFGnbpQ8Se8",
        "colab": {}
      },
      "source": [
        "# !! DO NOT REMOVE THIS LINE !!\n",
        "# Delete test_labels (by making it an empty list) so that we don't accidentally\n",
        "# use it in the code.\n",
        "test_labels = []\n",
        "\n",
        "# Then split the training set ('train_all') into two subsets: train and \n",
        "# validation.  After that, we have 3 subsets: train, validation and test.\n",
        "from sklearn.model_selection import train_test_split\n",
        "\n",
        "# 80% train, 20% validation, and by using stratefied sampling.  \n",
        "train_images, valid_images, train_labels, valid_labels \\\n",
        "  = train_test_split(train_all_images, train_all_labels,\n",
        "                     stratify=train_all_labels, test_size=0.2)"
      ],
      "execution_count": 0,
      "outputs": []
    },
    {
      "cell_type": "code",
      "metadata": {
        "colab_type": "code",
        "id": "LOoJv-f679eA",
        "colab": {}
      },
      "source": [
        "# Normalize pixel values of images to be between 0 and 1\n",
        "train_images, valid_images, test_images \\\n",
        "  = train_images / 255.0, valid_images / 255.0, test_images / 255.0"
      ],
      "execution_count": 0,
      "outputs": []
    },
    {
      "cell_type": "code",
      "metadata": {
        "colab_type": "code",
        "id": "Xp6FmZ3vWLsF",
        "outputId": "a6b087fa-e0e4-4f72-a213-cbf0aed1f2fb",
        "colab": {
          "base_uri": "https://localhost:8080/",
          "height": 136
        }
      },
      "source": [
        "train_labels"
      ],
      "execution_count": 6,
      "outputs": [
        {
          "output_type": "execute_result",
          "data": {
            "text/plain": [
              "array([[0],\n",
              "       [3],\n",
              "       [7],\n",
              "       ...,\n",
              "       [1],\n",
              "       [1],\n",
              "       [8]], dtype=uint8)"
            ]
          },
          "metadata": {
            "tags": []
          },
          "execution_count": 6
        }
      ]
    },
    {
      "cell_type": "code",
      "metadata": {
        "colab_type": "code",
        "id": "kGN7PJSqWVvz",
        "outputId": "a85e5df0-cdc9-4d6c-cbe0-747ac96901d8",
        "colab": {
          "base_uri": "https://localhost:8080/",
          "height": 136
        }
      },
      "source": [
        "valid_labels"
      ],
      "execution_count": 7,
      "outputs": [
        {
          "output_type": "execute_result",
          "data": {
            "text/plain": [
              "array([[0],\n",
              "       [8],\n",
              "       [6],\n",
              "       ...,\n",
              "       [2],\n",
              "       [6],\n",
              "       [1]], dtype=uint8)"
            ]
          },
          "metadata": {
            "tags": []
          },
          "execution_count": 7
        }
      ]
    },
    {
      "cell_type": "markdown",
      "metadata": {
        "colab_type": "text",
        "id": "7wArwCTJJlUa"
      },
      "source": [
        "### Verify the data\n",
        "\n",
        "To verify that the dataset looks correct, plot the first 10 images from the training set and display the class name below each image.\n"
      ]
    },
    {
      "cell_type": "code",
      "metadata": {
        "colab_type": "code",
        "id": "K3PAELE2eSU9",
        "outputId": "3cbba4e6-8f71-4b70-e0eb-f8522fa4b230",
        "colab": {
          "base_uri": "https://localhost:8080/",
          "height": 251
        }
      },
      "source": [
        "class_names = ['airplane', 'automobile', 'bird', 'cat', 'deer',\n",
        "               'dog', 'frog', 'horse', 'ship', 'truck']\n",
        "\n",
        "plt.figure(figsize=(10,10))\n",
        "for i in range(10):\n",
        "    plt.subplot(5,5,i+1)\n",
        "    plt.xticks([])\n",
        "    plt.yticks([])\n",
        "    plt.grid(False)\n",
        "    plt.imshow(train_images[i], cmap=plt.cm.binary)\n",
        "    # The CIFAR labels happen to be arrays, \n",
        "    # which is why you need the extra index\n",
        "    plt.xlabel(class_names[train_labels[i][0]])\n",
        "plt.show()"
      ],
      "execution_count": 8,
      "outputs": [
        {
          "output_type": "display_data",
          "data": {
            "image/png": "[encoded data removed]",
            "text/plain": [
              "<Figure size 720x720 with 10 Axes>"
            ]
          },
          "metadata": {
            "tags": []
          }
        }
      ]
    },
    {
      "cell_type": "markdown",
      "metadata": {
        "colab_type": "text",
        "id": "Oewp-wYg31t9"
      },
      "source": [
        "### Create a convolutional Network"
      ]
    },
    {
      "cell_type": "markdown",
      "metadata": {
        "colab_type": "text",
        "id": "3hQvqXpNyN3x"
      },
      "source": [
        "As input, a CNN takes tensors of shape (image_height, image_width, color_channels), ignoring the batch size, where color_channels refers to (R,G,B). The format of CIFAR images is 32 * 32 pixels, so the input shape is (32, 32, 3).\n",
        "The output layer has 10 nodes, corresponding to the number of categories of the images.  \n",
        "In this code, the activation function of the output layer is specified to be softmax for the purpose of aligning the two versions of TensorFlow (TF1 and TF2; in particular to make TF2  compatible with TF1's 'sparse_categorical_crossentropy' loss function).\n"
      ]
    },
    {
      "cell_type": "code",
      "metadata": {
        "colab_type": "code",
        "id": "L9YmGQBQPrdn",
        "colab": {}
      },
      "source": [
        "model = models.Sequential()\n",
        "model.add(layers.Conv2D(32, (3, 3), activation='relu', input_shape=(32, 32, 3)))\n",
        "model.add(layers.MaxPooling2D((2, 2)))\n",
        "model.add(layers.Conv2D(64, (3, 3), activation='relu'))\n",
        "model.add(layers.MaxPooling2D((2, 2)))\n",
        "model.add(layers.Conv2D(64, (3, 3), activation='relu'))\n",
        "model.add(layers.Flatten())\n",
        "model.add(layers.Dense(64, activation='relu'))\n",
        "model.add(layers.Dense(10, activation='softmax')) # 5/2020 nt: as noted above"
      ],
      "execution_count": 0,
      "outputs": []
    },
    {
      "cell_type": "markdown",
      "metadata": {
        "colab_type": "text",
        "id": "ipGiQMcR4Gtq"
      },
      "source": [
        "Verify the model."
      ]
    },
    {
      "cell_type": "code",
      "metadata": {
        "colab_type": "code",
        "id": "8Yu_m-TZUWGX",
        "outputId": "b6c7a9bb-5ff1-49b7-ca30-52a3343112c4",
        "colab": {
          "base_uri": "https://localhost:8080/",
          "height": 425
        }
      },
      "source": [
        "model.summary()"
      ],
      "execution_count": 10,
      "outputs": [
        {
          "output_type": "stream",
          "text": [
            "Model: \"sequential\"\n",
            "_________________________________________________________________\n",
            "Layer (type)                 Output Shape              Param #   \n",
            "=================================================================\n",
            "conv2d (Conv2D)              (None, 30, 30, 32)        896       \n",
            "_________________________________________________________________\n",
            "max_pooling2d (MaxPooling2D) (None, 15, 15, 32)        0         \n",
            "_________________________________________________________________\n",
            "conv2d_1 (Conv2D)            (None, 13, 13, 64)        18496     \n",
            "_________________________________________________________________\n",
            "max_pooling2d_1 (MaxPooling2 (None, 6, 6, 64)          0         \n",
            "_________________________________________________________________\n",
            "conv2d_2 (Conv2D)            (None, 4, 4, 64)          36928     \n",
            "_________________________________________________________________\n",
            "flatten (Flatten)            (None, 1024)              0         \n",
            "_________________________________________________________________\n",
            "dense (Dense)                (None, 64)                65600     \n",
            "_________________________________________________________________\n",
            "dense_1 (Dense)              (None, 10)                650       \n",
            "=================================================================\n",
            "Total params: 122,570\n",
            "Trainable params: 122,570\n",
            "Non-trainable params: 0\n",
            "_________________________________________________________________\n"
          ],
          "name": "stdout"
        }
      ]
    },
    {
      "cell_type": "markdown",
      "metadata": {
        "colab_type": "text",
        "id": "P3odqfHP4M67"
      },
      "source": [
        "### Compile the model\n",
        "**\\*\\*IMPORTANT (2) \\*\\*** Uncomment either loss function for the version of TensorFlow (TF1 or TF2) of your platform."
      ]
    },
    {
      "cell_type": "code",
      "metadata": {
        "colab_type": "code",
        "id": "MdDzI75PUXrG",
        "colab": {}
      },
      "source": [
        "model.compile(optimizer='adam',\n",
        "              loss=tf.keras.losses.SparseCategoricalCrossentropy(from_logits=False), # For TF2\n",
        "              #loss='sparse_categorical_crossentropy', # For TF1\n",
        "              metrics=['accuracy'])"
      ],
      "execution_count": 0,
      "outputs": []
    },
    {
      "cell_type": "markdown",
      "metadata": {
        "colab_type": "text",
        "id": "gGTgsHB3fB2n"
      },
      "source": [
        "### Train the model"
      ]
    },
    {
      "cell_type": "code",
      "metadata": {
        "colab_type": "code",
        "id": "kSaH1oQ0fKFx",
        "outputId": "3dd8d421-0b04-40c8-dca8-1795b224ca97",
        "colab": {
          "base_uri": "https://localhost:8080/",
          "height": 377
        }
      },
      "source": [
        "history = model.fit(train_images, train_labels, epochs=10, \n",
        "                    validation_data=(valid_images, valid_labels)) # 5/2020 nt: use validation set"
      ],
      "execution_count": 12,
      "outputs": [
        {
          "output_type": "stream",
          "text": [
            "Epoch 1/10\n",
            "1250/1250 [==============================] - 9s 7ms/step - loss: 1.5844 - accuracy: 0.4183 - val_loss: 1.4642 - val_accuracy: 0.4787\n",
            "Epoch 2/10\n",
            "1250/1250 [==============================] - 9s 7ms/step - loss: 1.2089 - accuracy: 0.5692 - val_loss: 1.1288 - val_accuracy: 0.5901\n",
            "Epoch 3/10\n",
            "1250/1250 [==============================] - 9s 7ms/step - loss: 1.0545 - accuracy: 0.6264 - val_loss: 1.0442 - val_accuracy: 0.6313\n",
            "Epoch 4/10\n",
            "1250/1250 [==============================] - 9s 7ms/step - loss: 0.9564 - accuracy: 0.6623 - val_loss: 1.0426 - val_accuracy: 0.6273\n",
            "Epoch 5/10\n",
            "1250/1250 [==============================] - 9s 7ms/step - loss: 0.8825 - accuracy: 0.6887 - val_loss: 0.9920 - val_accuracy: 0.6573\n",
            "Epoch 6/10\n",
            "1250/1250 [==============================] - 9s 7ms/step - loss: 0.8160 - accuracy: 0.7129 - val_loss: 0.9340 - val_accuracy: 0.6769\n",
            "Epoch 7/10\n",
            "1250/1250 [==============================] - 9s 7ms/step - loss: 0.7577 - accuracy: 0.7331 - val_loss: 0.9049 - val_accuracy: 0.6878\n",
            "Epoch 8/10\n",
            "1250/1250 [==============================] - 9s 7ms/step - loss: 0.7078 - accuracy: 0.7497 - val_loss: 0.8987 - val_accuracy: 0.6895\n",
            "Epoch 9/10\n",
            "1250/1250 [==============================] - 9s 7ms/step - loss: 0.6610 - accuracy: 0.7679 - val_loss: 0.9083 - val_accuracy: 0.6961\n",
            "Epoch 10/10\n",
            "1250/1250 [==============================] - 9s 7ms/step - loss: 0.6192 - accuracy: 0.7825 - val_loss: 0.9236 - val_accuracy: 0.6940\n"
          ],
          "name": "stdout"
        }
      ]
    },
    {
      "cell_type": "markdown",
      "metadata": {
        "colab_type": "text",
        "id": "jKgyC5K_4O0d"
      },
      "source": [
        "### Evaluate the model\n",
        "**\\*\\*IMPORTANT (3) \\*\\*** Uncomment either syntax for the version of TensorFlow (TF1 or TF2) of your platform."
      ]
    },
    {
      "cell_type": "code",
      "metadata": {
        "colab_type": "code",
        "id": "gtyDF0MKUcM7",
        "outputId": "d6170108-0d0e-4306-d1f4-3e4d893d1cf4",
        "colab": {
          "base_uri": "https://localhost:8080/",
          "height": 317
        }
      },
      "source": [
        "plt.plot(history.history['accuracy'], label='train_accuracy') # For TF2\n",
        "#plt.plot(history.history['acc'], label='train_accuracy') # For TF1\n",
        "plt.plot(history.history['val_accuracy'], label = 'valid_accuracy') # For TF2\n",
        "#plt.plot(history.history['val_acc'], label = 'valid_accuracy') # For TF1\n",
        "plt.xlabel('Epoch')\n",
        "plt.ylabel('Accuracy')\n",
        "plt.ylim([0.5, 1])\n",
        "plt.legend(loc='lower right')\n",
        "\n",
        "# Evaluate the learned model with validation set\n",
        "valid_loss, valid_acc = model.evaluate(valid_images, valid_labels, verbose=2) # 5/2020 nt: use validation set\n",
        "print (\"valid_accuracy=%s, valid_loss=%s\" % (valid_acc, valid_loss))"
      ],
      "execution_count": 13,
      "outputs": [
        {
          "output_type": "stream",
          "text": [
            "313/313 - 1s - loss: 0.9236 - accuracy: 0.6940\n",
            "valid_accuracy=0.6940000057220459, valid_loss=0.9236395359039307\n"
          ],
          "name": "stdout"
        },
        {
          "output_type": "display_data",
          "data": {
            "image/png": "[encoded data removed]",
            "text/plain": [
              "<Figure size 432x288 with 1 Axes>"
            ]
          },
          "metadata": {
            "tags": [],
            "needs_background": "light"
          }
        }
      ]
    },
    {
      "cell_type": "markdown",
      "metadata": {
        "colab_type": "text",
        "id": "8cfJ8AR03gT5"
      },
      "source": [
        "### **TO DO** -- Make Predictions\n",
        "Apply the learned network to **'test_images'** and generate predictions.\n",
        "\n",
        "Look at the code from HW#4 or other tutorial code for the syntax.  You generate predictions and create/write a KAGGLE submission file."
      ]
    },
    {
      "cell_type": "code",
      "metadata": {
        "colab_type": "code",
        "id": "lIFHkXYBhFNH",
        "colab": {
          "base_uri": "https://localhost:8080/",
          "height": 68
        },
        "outputId": "0761f761-d733-4773-e230-fcab8bfe0328"
      },
      "source": [
        "# Evaluate the restored model\n",
        "loss, acc = model.evaluate(valid_images,  valid_labels, verbose=2)\n",
        "print('Restored model, accuracy: {:5.2f}%'.format(100*acc))\n",
        "print(model.predict(valid_images).shape)"
      ],
      "execution_count": 19,
      "outputs": [
        {
          "output_type": "stream",
          "text": [
            "313/313 - 1s - loss: 0.9236 - accuracy: 0.6940\n",
            "Restored model, accuracy: 69.40%\n",
            "(10000, 10)\n"
          ],
          "name": "stdout"
        }
      ]
    },
    {
      "cell_type": "code",
      "metadata": {
        "id": "7XqRVDbUG54Y",
        "colab_type": "code",
        "colab": {}
      },
      "source": [
        "model.save('my_model.h5') "
      ],
      "execution_count": 0,
      "outputs": []
    },
    {
      "cell_type": "code",
      "metadata": {
        "id": "-flEYNdbIF6p",
        "colab_type": "code",
        "colab": {}
      },
      "source": [
        "x = model.predict(valid_images)"
      ],
      "execution_count": 0,
      "outputs": []
    },
    {
      "cell_type": "code",
      "metadata": {
        "id": "GrMzIr09JVO4",
        "colab_type": "code",
        "colab": {}
      },
      "source": [
        "header = ['cat0','cat1','cat2','cat3','cat4','cat5','cat6','cat7','cat8','cat9']"
      ],
      "execution_count": 0,
      "outputs": []
    },
    {
      "cell_type": "code",
      "metadata": {
        "id": "_XadztQ9KwSH",
        "colab_type": "code",
        "colab": {}
      },
      "source": [
        "import numpy as np\n",
        "import pandas as pd\n",
        "np.savetxt('test.csv', x, delimiter=',')"
      ],
      "execution_count": 0,
      "outputs": []
    },
    {
      "cell_type": "code",
      "metadata": {
        "id": "9NTUgt4LJVwO",
        "colab_type": "code",
        "colab": {}
      },
      "source": [
        "df = pd.DataFrame(x, columns=header)"
      ],
      "execution_count": 0,
      "outputs": []
    },
    {
      "cell_type": "code",
      "metadata": {
        "id": "C0BCTtO-O3W3",
        "colab_type": "code",
        "colab": {}
      },
      "source": [
        "df.index.name = 'id'"
      ],
      "execution_count": 0,
      "outputs": []
    },
    {
      "cell_type": "code",
      "metadata": {
        "id": "neUgTtEUMHrv",
        "colab_type": "code",
        "colab": {
          "base_uri": "https://localhost:8080/",
          "height": 204
        },
        "outputId": "992b6dd9-9de4-402a-fe9c-e410f33d1726"
      },
      "source": [
        "df.head()"
      ],
      "execution_count": 49,
      "outputs": [
        {
          "output_type": "execute_result",
          "data": {
            "text/html": [
              "<div>\n",
              "<style scoped>\n",
              "    .dataframe tbody tr th:only-of-type {\n",
              "        vertical-align: middle;\n",
              "    }\n",
              "\n",
              "    .dataframe tbody tr th {\n",
              "        vertical-align: top;\n",
              "    }\n",
              "\n",
              "    .dataframe thead th {\n",
              "        text-align: right;\n",
              "    }\n",
              "</style>\n",
              "<table border=\"1\" class=\"dataframe\">\n",
              "  <thead>\n",
              "    <tr style=\"text-align: right;\">\n",
              "      <th></th>\n",
              "      <th>cat0</th>\n",
              "      <th>cat1</th>\n",
              "      <th>cat2</th>\n",
              "      <th>cat3</th>\n",
              "      <th>cat4</th>\n",
              "      <th>cat5</th>\n",
              "      <th>cat6</th>\n",
              "      <th>cat7</th>\n",
              "      <th>cat8</th>\n",
              "      <th>cat9</th>\n",
              "    </tr>\n",
              "  </thead>\n",
              "  <tbody>\n",
              "    <tr>\n",
              "      <th>0</th>\n",
              "      <td>0.072457</td>\n",
              "      <td>0.000002</td>\n",
              "      <td>0.829491</td>\n",
              "      <td>0.008492</td>\n",
              "      <td>0.041431</td>\n",
              "      <td>0.001979</td>\n",
              "      <td>2.995271e-02</td>\n",
              "      <td>3.636115e-05</td>\n",
              "      <td>0.016144</td>\n",
              "      <td>0.000015</td>\n",
              "    </tr>\n",
              "    <tr>\n",
              "      <th>1</th>\n",
              "      <td>0.025504</td>\n",
              "      <td>0.000085</td>\n",
              "      <td>0.001055</td>\n",
              "      <td>0.000340</td>\n",
              "      <td>0.000064</td>\n",
              "      <td>0.000151</td>\n",
              "      <td>1.621934e-03</td>\n",
              "      <td>8.363778e-07</td>\n",
              "      <td>0.971177</td>\n",
              "      <td>0.000002</td>\n",
              "    </tr>\n",
              "    <tr>\n",
              "      <th>2</th>\n",
              "      <td>0.000011</td>\n",
              "      <td>0.000003</td>\n",
              "      <td>0.061748</td>\n",
              "      <td>0.016531</td>\n",
              "      <td>0.428644</td>\n",
              "      <td>0.041120</td>\n",
              "      <td>4.517159e-01</td>\n",
              "      <td>2.126060e-04</td>\n",
              "      <td>0.000003</td>\n",
              "      <td>0.000013</td>\n",
              "    </tr>\n",
              "    <tr>\n",
              "      <th>3</th>\n",
              "      <td>0.000307</td>\n",
              "      <td>0.000012</td>\n",
              "      <td>0.000008</td>\n",
              "      <td>0.000023</td>\n",
              "      <td>0.000448</td>\n",
              "      <td>0.000012</td>\n",
              "      <td>2.369659e-07</td>\n",
              "      <td>9.971624e-01</td>\n",
              "      <td>0.001821</td>\n",
              "      <td>0.000206</td>\n",
              "    </tr>\n",
              "    <tr>\n",
              "      <th>4</th>\n",
              "      <td>0.642462</td>\n",
              "      <td>0.000286</td>\n",
              "      <td>0.010424</td>\n",
              "      <td>0.000915</td>\n",
              "      <td>0.037385</td>\n",
              "      <td>0.001718</td>\n",
              "      <td>3.726310e-06</td>\n",
              "      <td>2.751169e-03</td>\n",
              "      <td>0.301424</td>\n",
              "      <td>0.002633</td>\n",
              "    </tr>\n",
              "  </tbody>\n",
              "</table>\n",
              "</div>"
            ],
            "text/plain": [
              "       cat0      cat1      cat2  ...          cat7      cat8      cat9\n",
              "0  0.072457  0.000002  0.829491  ...  3.636115e-05  0.016144  0.000015\n",
              "1  0.025504  0.000085  0.001055  ...  8.363778e-07  0.971177  0.000002\n",
              "2  0.000011  0.000003  0.061748  ...  2.126060e-04  0.000003  0.000013\n",
              "3  0.000307  0.000012  0.000008  ...  9.971624e-01  0.001821  0.000206\n",
              "4  0.642462  0.000286  0.010424  ...  2.751169e-03  0.301424  0.002633\n",
              "\n",
              "[5 rows x 10 columns]"
            ]
          },
          "metadata": {
            "tags": []
          },
          "execution_count": 49
        }
      ]
    },
    {
      "cell_type": "code",
      "metadata": {
        "id": "7Ub8IArkNdW9",
        "colab_type": "code",
        "colab": {}
      },
      "source": [
        "df.index.name = 'id'"
      ],
      "execution_count": 0,
      "outputs": []
    },
    {
      "cell_type": "code",
      "metadata": {
        "id": "4mTJox21NmZB",
        "colab_type": "code",
        "colab": {
          "base_uri": "https://localhost:8080/",
          "height": 235
        },
        "outputId": "4c66741a-517a-432f-814e-263c35857cae"
      },
      "source": [
        "df.head()"
      ],
      "execution_count": 53,
      "outputs": [
        {
          "output_type": "execute_result",
          "data": {
            "text/html": [
              "<div>\n",
              "<style scoped>\n",
              "    .dataframe tbody tr th:only-of-type {\n",
              "        vertical-align: middle;\n",
              "    }\n",
              "\n",
              "    .dataframe tbody tr th {\n",
              "        vertical-align: top;\n",
              "    }\n",
              "\n",
              "    .dataframe thead th {\n",
              "        text-align: right;\n",
              "    }\n",
              "</style>\n",
              "<table border=\"1\" class=\"dataframe\">\n",
              "  <thead>\n",
              "    <tr style=\"text-align: right;\">\n",
              "      <th></th>\n",
              "      <th>cat0</th>\n",
              "      <th>cat1</th>\n",
              "      <th>cat2</th>\n",
              "      <th>cat3</th>\n",
              "      <th>cat4</th>\n",
              "      <th>cat5</th>\n",
              "      <th>cat6</th>\n",
              "      <th>cat7</th>\n",
              "      <th>cat8</th>\n",
              "      <th>cat9</th>\n",
              "    </tr>\n",
              "    <tr>\n",
              "      <th>id</th>\n",
              "      <th></th>\n",
              "      <th></th>\n",
              "      <th></th>\n",
              "      <th></th>\n",
              "      <th></th>\n",
              "      <th></th>\n",
              "      <th></th>\n",
              "      <th></th>\n",
              "      <th></th>\n",
              "      <th></th>\n",
              "    </tr>\n",
              "  </thead>\n",
              "  <tbody>\n",
              "    <tr>\n",
              "      <th>0</th>\n",
              "      <td>0.072457</td>\n",
              "      <td>0.000002</td>\n",
              "      <td>0.829491</td>\n",
              "      <td>0.008492</td>\n",
              "      <td>0.041431</td>\n",
              "      <td>0.001979</td>\n",
              "      <td>2.995271e-02</td>\n",
              "      <td>3.636115e-05</td>\n",
              "      <td>0.016144</td>\n",
              "      <td>0.000015</td>\n",
              "    </tr>\n",
              "    <tr>\n",
              "      <th>1</th>\n",
              "      <td>0.025504</td>\n",
              "      <td>0.000085</td>\n",
              "      <td>0.001055</td>\n",
              "      <td>0.000340</td>\n",
              "      <td>0.000064</td>\n",
              "      <td>0.000151</td>\n",
              "      <td>1.621934e-03</td>\n",
              "      <td>8.363778e-07</td>\n",
              "      <td>0.971177</td>\n",
              "      <td>0.000002</td>\n",
              "    </tr>\n",
              "    <tr>\n",
              "      <th>2</th>\n",
              "      <td>0.000011</td>\n",
              "      <td>0.000003</td>\n",
              "      <td>0.061748</td>\n",
              "      <td>0.016531</td>\n",
              "      <td>0.428644</td>\n",
              "      <td>0.041120</td>\n",
              "      <td>4.517159e-01</td>\n",
              "      <td>2.126060e-04</td>\n",
              "      <td>0.000003</td>\n",
              "      <td>0.000013</td>\n",
              "    </tr>\n",
              "    <tr>\n",
              "      <th>3</th>\n",
              "      <td>0.000307</td>\n",
              "      <td>0.000012</td>\n",
              "      <td>0.000008</td>\n",
              "      <td>0.000023</td>\n",
              "      <td>0.000448</td>\n",
              "      <td>0.000012</td>\n",
              "      <td>2.369659e-07</td>\n",
              "      <td>9.971624e-01</td>\n",
              "      <td>0.001821</td>\n",
              "      <td>0.000206</td>\n",
              "    </tr>\n",
              "    <tr>\n",
              "      <th>4</th>\n",
              "      <td>0.642462</td>\n",
              "      <td>0.000286</td>\n",
              "      <td>0.010424</td>\n",
              "      <td>0.000915</td>\n",
              "      <td>0.037385</td>\n",
              "      <td>0.001718</td>\n",
              "      <td>3.726310e-06</td>\n",
              "      <td>2.751169e-03</td>\n",
              "      <td>0.301424</td>\n",
              "      <td>0.002633</td>\n",
              "    </tr>\n",
              "  </tbody>\n",
              "</table>\n",
              "</div>"
            ],
            "text/plain": [
              "        cat0      cat1      cat2  ...          cat7      cat8      cat9\n",
              "id                                ...                                  \n",
              "0   0.072457  0.000002  0.829491  ...  3.636115e-05  0.016144  0.000015\n",
              "1   0.025504  0.000085  0.001055  ...  8.363778e-07  0.971177  0.000002\n",
              "2   0.000011  0.000003  0.061748  ...  2.126060e-04  0.000003  0.000013\n",
              "3   0.000307  0.000012  0.000008  ...  9.971624e-01  0.001821  0.000206\n",
              "4   0.642462  0.000286  0.010424  ...  2.751169e-03  0.301424  0.002633\n",
              "\n",
              "[5 rows x 10 columns]"
            ]
          },
          "metadata": {
            "tags": []
          },
          "execution_count": 53
        }
      ]
    },
    {
      "cell_type": "code",
      "metadata": {
        "id": "4_Q3YpLhOFDy",
        "colab_type": "code",
        "colab": {}
      },
      "source": [
        "df.index = df.index + 1"
      ],
      "execution_count": 0,
      "outputs": []
    },
    {
      "cell_type": "code",
      "metadata": {
        "id": "oQgY5QlfOFwS",
        "colab_type": "code",
        "colab": {
          "base_uri": "https://localhost:8080/",
          "height": 235
        },
        "outputId": "de2ee379-03e3-4f1a-c804-3faf793eac63"
      },
      "source": [
        "df.head()"
      ],
      "execution_count": 57,
      "outputs": [
        {
          "output_type": "execute_result",
          "data": {
            "text/html": [
              "<div>\n",
              "<style scoped>\n",
              "    .dataframe tbody tr th:only-of-type {\n",
              "        vertical-align: middle;\n",
              "    }\n",
              "\n",
              "    .dataframe tbody tr th {\n",
              "        vertical-align: top;\n",
              "    }\n",
              "\n",
              "    .dataframe thead th {\n",
              "        text-align: right;\n",
              "    }\n",
              "</style>\n",
              "<table border=\"1\" class=\"dataframe\">\n",
              "  <thead>\n",
              "    <tr style=\"text-align: right;\">\n",
              "      <th></th>\n",
              "      <th>cat0</th>\n",
              "      <th>cat1</th>\n",
              "      <th>cat2</th>\n",
              "      <th>cat3</th>\n",
              "      <th>cat4</th>\n",
              "      <th>cat5</th>\n",
              "      <th>cat6</th>\n",
              "      <th>cat7</th>\n",
              "      <th>cat8</th>\n",
              "      <th>cat9</th>\n",
              "    </tr>\n",
              "    <tr>\n",
              "      <th>id</th>\n",
              "      <th></th>\n",
              "      <th></th>\n",
              "      <th></th>\n",
              "      <th></th>\n",
              "      <th></th>\n",
              "      <th></th>\n",
              "      <th></th>\n",
              "      <th></th>\n",
              "      <th></th>\n",
              "      <th></th>\n",
              "    </tr>\n",
              "  </thead>\n",
              "  <tbody>\n",
              "    <tr>\n",
              "      <th>1</th>\n",
              "      <td>0.072457</td>\n",
              "      <td>0.000002</td>\n",
              "      <td>0.829491</td>\n",
              "      <td>0.008492</td>\n",
              "      <td>0.041431</td>\n",
              "      <td>0.001979</td>\n",
              "      <td>2.995271e-02</td>\n",
              "      <td>3.636115e-05</td>\n",
              "      <td>0.016144</td>\n",
              "      <td>0.000015</td>\n",
              "    </tr>\n",
              "    <tr>\n",
              "      <th>2</th>\n",
              "      <td>0.025504</td>\n",
              "      <td>0.000085</td>\n",
              "      <td>0.001055</td>\n",
              "      <td>0.000340</td>\n",
              "      <td>0.000064</td>\n",
              "      <td>0.000151</td>\n",
              "      <td>1.621934e-03</td>\n",
              "      <td>8.363778e-07</td>\n",
              "      <td>0.971177</td>\n",
              "      <td>0.000002</td>\n",
              "    </tr>\n",
              "    <tr>\n",
              "      <th>3</th>\n",
              "      <td>0.000011</td>\n",
              "      <td>0.000003</td>\n",
              "      <td>0.061748</td>\n",
              "      <td>0.016531</td>\n",
              "      <td>0.428644</td>\n",
              "      <td>0.041120</td>\n",
              "      <td>4.517159e-01</td>\n",
              "      <td>2.126060e-04</td>\n",
              "      <td>0.000003</td>\n",
              "      <td>0.000013</td>\n",
              "    </tr>\n",
              "    <tr>\n",
              "      <th>4</th>\n",
              "      <td>0.000307</td>\n",
              "      <td>0.000012</td>\n",
              "      <td>0.000008</td>\n",
              "      <td>0.000023</td>\n",
              "      <td>0.000448</td>\n",
              "      <td>0.000012</td>\n",
              "      <td>2.369659e-07</td>\n",
              "      <td>9.971624e-01</td>\n",
              "      <td>0.001821</td>\n",
              "      <td>0.000206</td>\n",
              "    </tr>\n",
              "    <tr>\n",
              "      <th>5</th>\n",
              "      <td>0.642462</td>\n",
              "      <td>0.000286</td>\n",
              "      <td>0.010424</td>\n",
              "      <td>0.000915</td>\n",
              "      <td>0.037385</td>\n",
              "      <td>0.001718</td>\n",
              "      <td>3.726310e-06</td>\n",
              "      <td>2.751169e-03</td>\n",
              "      <td>0.301424</td>\n",
              "      <td>0.002633</td>\n",
              "    </tr>\n",
              "  </tbody>\n",
              "</table>\n",
              "</div>"
            ],
            "text/plain": [
              "        cat0      cat1      cat2  ...          cat7      cat8      cat9\n",
              "id                                ...                                  \n",
              "1   0.072457  0.000002  0.829491  ...  3.636115e-05  0.016144  0.000015\n",
              "2   0.025504  0.000085  0.001055  ...  8.363778e-07  0.971177  0.000002\n",
              "3   0.000011  0.000003  0.061748  ...  2.126060e-04  0.000003  0.000013\n",
              "4   0.000307  0.000012  0.000008  ...  9.971624e-01  0.001821  0.000206\n",
              "5   0.642462  0.000286  0.010424  ...  2.751169e-03  0.301424  0.002633\n",
              "\n",
              "[5 rows x 10 columns]"
            ]
          },
          "metadata": {
            "tags": []
          },
          "execution_count": 57
        }
      ]
    },
    {
      "cell_type": "code",
      "metadata": {
        "id": "86znKc0hOWBf",
        "colab_type": "code",
        "colab": {}
      },
      "source": [
        "df.to_csv ('test.csv',  header=True)"
      ],
      "execution_count": 0,
      "outputs": []
    },
    {
      "cell_type": "code",
      "metadata": {
        "id": "waMJSpi7OnpS",
        "colab_type": "code",
        "colab": {}
      },
      "source": [
        ""
      ],
      "execution_count": 0,
      "outputs": []
    }
  ]
}