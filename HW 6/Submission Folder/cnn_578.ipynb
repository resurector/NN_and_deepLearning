{
 "cells": [
  {
   "cell_type": "markdown",
   "metadata": {
    "colab_type": "text",
    "id": "DSPCom-KmApV"
   },
   "source": [
    "##Rasheed Hameed\n",
    "# Kaggle User Name: RasheedHameed\n",
    "# CSC 578 Nerual Networks and Deep Learning Spring 2020 - Section 910\n",
    "## HW\\#6 - Image Classification using CNN\n"
   ]
  },
  {
   "cell_type": "markdown",
   "metadata": {
    "colab_type": "text",
    "id": "qLGkt5qiyz4E"
   },
   "source": [
    "This code is slightly modified from the TensorFlow tutorial  [\"Convolutional Neural Network (CNN)\"](https://www.tensorflow.org/tutorials/images/cnn) for the purpose of our homework. The code first downloads the data, the [CIFAR-10 dataset](https://www.cs.toronto.edu/~kriz/cifar.html) and partitions the training set into training and validation sets.  Then the code builds a CNN network and trains the network with the training set. Finally the code evaluates the network performance using the validation set.\n",
    "<p>\n",
    "Note that there are <b>three places</b> in the code, indicated with <b>**IMPORTANT**</b>, where you choose the syntax that works for the version of TensorFlow (1 or 2) installed on your platform.\n"
   ]
  },
  {
   "cell_type": "markdown",
   "metadata": {
    "colab_type": "text",
    "id": "m7KBpffWzlxH"
   },
   "source": [
    "### Import TensorFlow\n",
    "**\\*\\*IMPORTANT (1) \\*\\*** Uncomment either import line(s) for the version of TensorFlow (TF1 or TF2) of your platform."
   ]
  },
  {
   "cell_type": "code",
   "execution_count": 0,
   "metadata": {
    "colab": {},
    "colab_type": "code",
    "id": "iAve6DCL4JH4"
   },
   "outputs": [],
   "source": [
    "import matplotlib.pyplot as plt\n",
    "\n",
    "import tensorflow as tf\n",
    "\n",
    "## For TF version 2 (just one line)\n",
    "from tensorflow.keras import datasets, layers, models\n",
    "\n",
    "## For TF version 1 (need both lines)\n",
    "#from tensorflow import keras\n",
    "#from keras import datasets, layers, models"
   ]
  },
  {
   "cell_type": "code",
   "execution_count": 2,
   "metadata": {
    "colab": {
     "base_uri": "https://localhost:8080/",
     "height": 34
    },
    "colab_type": "code",
    "id": "Qm1pLTh2bvaa",
    "outputId": "98207e30-3b97-45e7-9e98-5c16bf7393ce"
   },
   "outputs": [
    {
     "name": "stdout",
     "output_type": "stream",
     "text": [
      "2.2.0\n"
     ]
    }
   ],
   "source": [
    "print(tf.__version__) # 5/2020 nt: check the TF version!"
   ]
  },
  {
   "cell_type": "markdown",
   "metadata": {
    "colab_type": "text",
    "id": "jRFxccghyMVo"
   },
   "source": [
    "### Download and prepare the CIFAR10 dataset\n",
    "\n",
    "\n",
    "The CIFAR10 dataset contains 60,000 color images in 10 classes, with 6,000 images in each class. The dataset is (pre-)divided into 50,000 training images and 10,000 testing images."
   ]
  },
  {
   "cell_type": "code",
   "execution_count": 0,
   "metadata": {
    "colab": {},
    "colab_type": "code",
    "id": "JWoEqyMuXFF4"
   },
   "outputs": [],
   "source": [
    "# Download the data from the repository site.\n",
    "(train_all_images, train_all_labels), (test_images, test_labels) = datasets.cifar10.load_data()"
   ]
  },
  {
   "cell_type": "code",
   "execution_count": 0,
   "metadata": {
    "colab": {},
    "colab_type": "code",
    "id": "IXFGnbpQ8Se8"
   },
   "outputs": [],
   "source": [
    "# !! DO NOT REMOVE THIS LINE !!\n",
    "# Delete test_labels (by making it an empty list) so that we don't accidentally\n",
    "# use it in the code.\n",
    "test_labels = []\n",
    "\n",
    "# Then split the training set ('train_all') into two subsets: train and \n",
    "# validation.  After that, we have 3 subsets: train, validation and test.\n",
    "from sklearn.model_selection import train_test_split\n",
    "\n",
    "# 80% train, 20% validation, and by using stratefied sampling.  \n",
    "train_images, valid_images, train_labels, valid_labels \\\n",
    "  = train_test_split(train_all_images, train_all_labels,\n",
    "                     stratify=train_all_labels, test_size=0.2)"
   ]
  },
  {
   "cell_type": "code",
   "execution_count": 0,
   "metadata": {
    "colab": {},
    "colab_type": "code",
    "id": "LOoJv-f679eA"
   },
   "outputs": [],
   "source": [
    "# Normalize pixel values of images to be between 0 and 1\n",
    "train_images, valid_images, test_images \\\n",
    "  = train_images / 255.0, valid_images / 255.0, test_images / 255.0"
   ]
  },
  {
   "cell_type": "code",
   "execution_count": 6,
   "metadata": {
    "colab": {
     "base_uri": "https://localhost:8080/",
     "height": 136
    },
    "colab_type": "code",
    "id": "Xp6FmZ3vWLsF",
    "outputId": "82f54fb5-58f8-476b-8226-30cb4c088f1e"
   },
   "outputs": [
    {
     "data": {
      "text/plain": [
       "array([[8],\n",
       "       [3],\n",
       "       [8],\n",
       "       ...,\n",
       "       [5],\n",
       "       [4],\n",
       "       [8]], dtype=uint8)"
      ]
     },
     "execution_count": 6,
     "metadata": {
      "tags": []
     },
     "output_type": "execute_result"
    }
   ],
   "source": [
    "train_labels"
   ]
  },
  {
   "cell_type": "code",
   "execution_count": 7,
   "metadata": {
    "colab": {
     "base_uri": "https://localhost:8080/",
     "height": 136
    },
    "colab_type": "code",
    "id": "kGN7PJSqWVvz",
    "outputId": "791b2965-d515-4acf-9153-5e45c6027eba"
   },
   "outputs": [
    {
     "data": {
      "text/plain": [
       "array([[3],\n",
       "       [7],\n",
       "       [8],\n",
       "       ...,\n",
       "       [1],\n",
       "       [7],\n",
       "       [4]], dtype=uint8)"
      ]
     },
     "execution_count": 7,
     "metadata": {
      "tags": []
     },
     "output_type": "execute_result"
    }
   ],
   "source": [
    "valid_labels"
   ]
  },
  {
   "cell_type": "markdown",
   "metadata": {
    "colab_type": "text",
    "id": "7wArwCTJJlUa"
   },
   "source": [
    "### Verify the data\n",
    "\n",
    "To verify that the dataset looks correct, plot the first 10 images from the training set and display the class name below each image.\n"
   ]
  },
  {
   "cell_type": "code",
   "execution_count": 8,
   "metadata": {
    "colab": {
     "base_uri": "https://localhost:8080/",
     "height": 251
    },
    "colab_type": "code",
    "id": "K3PAELE2eSU9",
    "outputId": "19d7504a-9e4e-4bf6-915a-0399dd7de497"
   },
   "outputs": [
    {
     "data": {
      "image/png": "[encoded data removed]",
      "text/plain": [
       "<Figure size 720x720 with 10 Axes>"
      ]
     },
     "metadata": {
      "tags": []
     },
     "output_type": "display_data"
    }
   ],
   "source": [
    "class_names = ['airplane', 'automobile', 'bird', 'cat', 'deer',\n",
    "               'dog', 'frog', 'horse', 'ship', 'truck']\n",
    "\n",
    "plt.figure(figsize=(10,10))\n",
    "for i in range(10):\n",
    "    plt.subplot(5,5,i+1)\n",
    "    plt.xticks([])\n",
    "    plt.yticks([])\n",
    "    plt.grid(False)\n",
    "    plt.imshow(train_images[i], cmap=plt.cm.binary)\n",
    "    # The CIFAR labels happen to be arrays, \n",
    "    # which is why you need the extra index\n",
    "    plt.xlabel(class_names[train_labels[i][0]])\n",
    "plt.show()"
   ]
  },
  {
   "cell_type": "markdown",
   "metadata": {
    "colab_type": "text",
    "id": "Oewp-wYg31t9"
   },
   "source": [
    "### Create a convolutional Network"
   ]
  },
  {
   "cell_type": "markdown",
   "metadata": {
    "colab_type": "text",
    "id": "3hQvqXpNyN3x"
   },
   "source": [
    "As input, a CNN takes tensors of shape (image_height, image_width, color_channels), ignoring the batch size, where color_channels refers to (R,G,B). The format of CIFAR images is 32 * 32 pixels, so the input shape is (32, 32, 3).\n",
    "The output layer has 10 nodes, corresponding to the number of categories of the images.  \n",
    "In this code, the activation function of the output layer is specified to be softmax for the purpose of aligning the two versions of TensorFlow (TF1 and TF2; in particular to make TF2  compatible with TF1's 'sparse_categorical_crossentropy' loss function).\n"
   ]
  },
  {
   "cell_type": "code",
   "execution_count": 0,
   "metadata": {
    "colab": {},
    "colab_type": "code",
    "id": "L9YmGQBQPrdn"
   },
   "outputs": [],
   "source": [
    "model = models.Sequential()\n",
    "model.add(layers.Conv2D(32, (3, 3), activation='relu', input_shape=(32, 32, 3)))\n",
    "model.add(layers.MaxPooling2D((2, 2)))\n",
    "model.add(layers.Conv2D(64, (3, 3), activation='relu'))\n",
    "model.add(layers.MaxPooling2D((2, 2)))\n",
    "model.add(layers.Conv2D(64, (3, 3), activation='relu'))\n",
    "model.add(layers.Flatten())\n",
    "model.add(layers.Dense(64, activation='relu'))\n",
    "model.add(layers.Dense(10, activation='softmax')) # 5/2020 nt: as noted above"
   ]
  },
  {
   "cell_type": "markdown",
   "metadata": {
    "colab_type": "text",
    "id": "ipGiQMcR4Gtq"
   },
   "source": [
    "Verify the model."
   ]
  },
  {
   "cell_type": "code",
   "execution_count": 10,
   "metadata": {
    "colab": {
     "base_uri": "https://localhost:8080/",
     "height": 425
    },
    "colab_type": "code",
    "id": "8Yu_m-TZUWGX",
    "outputId": "dc8efa07-fb10-451b-9ff7-0af8d41da438"
   },
   "outputs": [
    {
     "name": "stdout",
     "output_type": "stream",
     "text": [
      "Model: \"sequential\"\n",
      "_________________________________________________________________\n",
      "Layer (type)                 Output Shape              Param #   \n",
      "=================================================================\n",
      "conv2d (Conv2D)              (None, 30, 30, 32)        896       \n",
      "_________________________________________________________________\n",
      "max_pooling2d (MaxPooling2D) (None, 15, 15, 32)        0         \n",
      "_________________________________________________________________\n",
      "conv2d_1 (Conv2D)            (None, 13, 13, 64)        18496     \n",
      "_________________________________________________________________\n",
      "max_pooling2d_1 (MaxPooling2 (None, 6, 6, 64)          0         \n",
      "_________________________________________________________________\n",
      "conv2d_2 (Conv2D)            (None, 4, 4, 64)          36928     \n",
      "_________________________________________________________________\n",
      "flatten (Flatten)            (None, 1024)              0         \n",
      "_________________________________________________________________\n",
      "dense (Dense)                (None, 64)                65600     \n",
      "_________________________________________________________________\n",
      "dense_1 (Dense)              (None, 10)                650       \n",
      "=================================================================\n",
      "Total params: 122,570\n",
      "Trainable params: 122,570\n",
      "Non-trainable params: 0\n",
      "_________________________________________________________________\n"
     ]
    }
   ],
   "source": [
    "model.summary()"
   ]
  },
  {
   "cell_type": "markdown",
   "metadata": {
    "colab_type": "text",
    "id": "P3odqfHP4M67"
   },
   "source": [
    "### Compile the model\n",
    "**\\*\\*IMPORTANT (2) \\*\\*** Uncomment either loss function for the version of TensorFlow (TF1 or TF2) of your platform."
   ]
  },
  {
   "cell_type": "code",
   "execution_count": 0,
   "metadata": {
    "colab": {},
    "colab_type": "code",
    "id": "MdDzI75PUXrG"
   },
   "outputs": [],
   "source": [
    "model.compile(optimizer='adam',\n",
    "              loss=tf.keras.losses.SparseCategoricalCrossentropy(from_logits=False), # For TF2\n",
    "              #loss='sparse_categorical_crossentropy', # For TF1\n",
    "              metrics=['accuracy'])"
   ]
  },
  {
   "cell_type": "markdown",
   "metadata": {
    "colab_type": "text",
    "id": "gGTgsHB3fB2n"
   },
   "source": [
    "### Train the model"
   ]
  },
  {
   "cell_type": "code",
   "execution_count": 12,
   "metadata": {
    "colab": {
     "base_uri": "https://localhost:8080/",
     "height": 357
    },
    "colab_type": "code",
    "id": "kSaH1oQ0fKFx",
    "outputId": "a273276f-1011-4685-f9a9-cf169b9a5125"
   },
   "outputs": [
    {
     "name": "stdout",
     "output_type": "stream",
     "text": [
      "Epoch 1/10\n",
      "1250/1250 [==============================] - 4s 4ms/step - loss: 1.5448 - accuracy: 0.4367 - val_loss: 1.2794 - val_accuracy: 0.5341\n",
      "Epoch 2/10\n",
      "1250/1250 [==============================] - 4s 3ms/step - loss: 1.1718 - accuracy: 0.5836 - val_loss: 1.0800 - val_accuracy: 0.6213\n",
      "Epoch 3/10\n",
      "1250/1250 [==============================] - 4s 3ms/step - loss: 1.0322 - accuracy: 0.6355 - val_loss: 1.0391 - val_accuracy: 0.6377\n",
      "Epoch 4/10\n",
      "1250/1250 [==============================] - 4s 3ms/step - loss: 0.9372 - accuracy: 0.6699 - val_loss: 0.9474 - val_accuracy: 0.6678\n",
      "Epoch 5/10\n",
      "1250/1250 [==============================] - 4s 3ms/step - loss: 0.8610 - accuracy: 0.6975 - val_loss: 0.9458 - val_accuracy: 0.6712\n",
      "Epoch 6/10\n",
      "1250/1250 [==============================] - 4s 3ms/step - loss: 0.7965 - accuracy: 0.7206 - val_loss: 0.8940 - val_accuracy: 0.6881\n",
      "Epoch 7/10\n",
      "1250/1250 [==============================] - 4s 3ms/step - loss: 0.7408 - accuracy: 0.7405 - val_loss: 0.9491 - val_accuracy: 0.6807\n",
      "Epoch 8/10\n",
      "1250/1250 [==============================] - 4s 3ms/step - loss: 0.6932 - accuracy: 0.7579 - val_loss: 0.9045 - val_accuracy: 0.6939\n",
      "Epoch 9/10\n",
      "1250/1250 [==============================] - 4s 3ms/step - loss: 0.6411 - accuracy: 0.7749 - val_loss: 0.9458 - val_accuracy: 0.6908\n",
      "Epoch 10/10\n",
      "1250/1250 [==============================] - 4s 3ms/step - loss: 0.5968 - accuracy: 0.7893 - val_loss: 0.9705 - val_accuracy: 0.6860\n"
     ]
    }
   ],
   "source": [
    "history = model.fit(train_images, train_labels, epochs=10, \n",
    "                    validation_data=(valid_images, valid_labels)) # 5/2020 nt: use validation set"
   ]
  },
  {
   "cell_type": "markdown",
   "metadata": {
    "colab_type": "text",
    "id": "jKgyC5K_4O0d"
   },
   "source": [
    "### Evaluate the model\n",
    "**\\*\\*IMPORTANT (3) \\*\\*** Uncomment either syntax for the version of TensorFlow (TF1 or TF2) of your platform."
   ]
  },
  {
   "cell_type": "code",
   "execution_count": 13,
   "metadata": {
    "colab": {
     "base_uri": "https://localhost:8080/",
     "height": 317
    },
    "colab_type": "code",
    "id": "gtyDF0MKUcM7",
    "outputId": "ac322d44-fe2e-48fd-896a-b14fa321b760"
   },
   "outputs": [
    {
     "name": "stdout",
     "output_type": "stream",
     "text": [
      "313/313 - 1s - loss: 0.9705 - accuracy: 0.6860\n",
      "valid_accuracy=0.6859999895095825, valid_loss=0.9705498814582825\n"
     ]
    },
    {
     "data": {
      "image/png": "[encoded data removed]",
      "text/plain": [
       "<Figure size 432x288 with 1 Axes>"
      ]
     },
     "metadata": {
      "needs_background": "light",
      "tags": []
     },
     "output_type": "display_data"
    }
   ],
   "source": [
    "plt.plot(history.history['accuracy'], label='train_accuracy') # For TF2\n",
    "#plt.plot(history.history['acc'], label='train_accuracy') # For TF1\n",
    "plt.plot(history.history['val_accuracy'], label = 'valid_accuracy') # For TF2\n",
    "#plt.plot(history.history['val_acc'], label = 'valid_accuracy') # For TF1\n",
    "plt.xlabel('Epoch')\n",
    "plt.ylabel('Accuracy')\n",
    "plt.ylim([0.5, 1])\n",
    "plt.legend(loc='lower right')\n",
    "\n",
    "# Evaluate the learned model with validation set\n",
    "valid_loss, valid_acc = model.evaluate(valid_images, valid_labels, verbose=2) # 5/2020 nt: use validation set\n",
    "print (\"valid_accuracy=%s, valid_loss=%s\" % (valid_acc, valid_loss))"
   ]
  },
  {
   "cell_type": "markdown",
   "metadata": {
    "colab_type": "text",
    "id": "8cfJ8AR03gT5"
   },
   "source": [
    "### **TO DO** -- Make Predictions\n",
    "Apply the learned network to **'test_images'** and generate predictions.\n",
    "\n",
    "Look at the code from HW#4 or other tutorial code for the syntax.  You generate predictions and create/write a KAGGLE submission file."
   ]
  },
  {
   "cell_type": "markdown",
   "metadata": {
    "colab_type": "text",
    "id": "e3IR9BG3nGLW"
   },
   "source": [
    "**Experimenting on Changing the Number of filters**"
   ]
  },
  {
   "cell_type": "code",
   "execution_count": 0,
   "metadata": {
    "colab": {},
    "colab_type": "code",
    "id": "xw1XS2DTnPyX"
   },
   "outputs": [],
   "source": [
    "model2 = models.Sequential()\n",
    "model2.add(layers.Conv2D(32, (3, 3), activation='relu', input_shape=(32, 32, 3)))\n",
    "model2.add(layers.MaxPooling2D((2, 2)))\n",
    "model2.add(layers.Conv2D(256, (3, 3), activation='relu'))\n",
    "model2.add(layers.MaxPooling2D((2, 2)))\n",
    "model2.add(layers.Conv2D(256, (3, 3), activation='relu'))\n",
    "model2.add(layers.Flatten())\n",
    "model2.add(layers.Dense(256, activation='relu'))\n",
    "model2.add(layers.Dense(10, activation='softmax')) "
   ]
  },
  {
   "cell_type": "code",
   "execution_count": 15,
   "metadata": {
    "colab": {
     "base_uri": "https://localhost:8080/",
     "height": 425
    },
    "colab_type": "code",
    "id": "OIKFVY00ocE5",
    "outputId": "fbf0a258-0ae6-4354-d00d-f61eb022e9ce"
   },
   "outputs": [
    {
     "name": "stdout",
     "output_type": "stream",
     "text": [
      "Model: \"sequential_1\"\n",
      "_________________________________________________________________\n",
      "Layer (type)                 Output Shape              Param #   \n",
      "=================================================================\n",
      "conv2d_3 (Conv2D)            (None, 30, 30, 32)        896       \n",
      "_________________________________________________________________\n",
      "max_pooling2d_2 (MaxPooling2 (None, 15, 15, 32)        0         \n",
      "_________________________________________________________________\n",
      "conv2d_4 (Conv2D)            (None, 13, 13, 256)       73984     \n",
      "_________________________________________________________________\n",
      "max_pooling2d_3 (MaxPooling2 (None, 6, 6, 256)         0         \n",
      "_________________________________________________________________\n",
      "conv2d_5 (Conv2D)            (None, 4, 4, 256)         590080    \n",
      "_________________________________________________________________\n",
      "flatten_1 (Flatten)          (None, 4096)              0         \n",
      "_________________________________________________________________\n",
      "dense_2 (Dense)              (None, 256)               1048832   \n",
      "_________________________________________________________________\n",
      "dense_3 (Dense)              (None, 10)                2570      \n",
      "=================================================================\n",
      "Total params: 1,716,362\n",
      "Trainable params: 1,716,362\n",
      "Non-trainable params: 0\n",
      "_________________________________________________________________\n"
     ]
    }
   ],
   "source": [
    "model2.summary()"
   ]
  },
  {
   "cell_type": "code",
   "execution_count": 0,
   "metadata": {
    "colab": {},
    "colab_type": "code",
    "id": "yd_HaCnfofvx"
   },
   "outputs": [],
   "source": [
    "model2.compile(optimizer='adam',\n",
    "              loss=tf.keras.losses.SparseCategoricalCrossentropy(from_logits=False), # For TF2\n",
    "              metrics=['accuracy'])"
   ]
  },
  {
   "cell_type": "code",
   "execution_count": 17,
   "metadata": {
    "colab": {
     "base_uri": "https://localhost:8080/",
     "height": 357
    },
    "colab_type": "code",
    "id": "_gggezwioktR",
    "outputId": "96928686-e9a6-4371-eca3-252e0ca2b48f"
   },
   "outputs": [
    {
     "name": "stdout",
     "output_type": "stream",
     "text": [
      "Epoch 1/10\n",
      "1250/1250 [==============================] - 6s 5ms/step - loss: 1.5003 - accuracy: 0.4496 - val_loss: 1.2451 - val_accuracy: 0.5569\n",
      "Epoch 2/10\n",
      "1250/1250 [==============================] - 6s 5ms/step - loss: 1.1042 - accuracy: 0.6048 - val_loss: 1.0566 - val_accuracy: 0.6169\n",
      "Epoch 3/10\n",
      "1250/1250 [==============================] - 6s 5ms/step - loss: 0.9163 - accuracy: 0.6758 - val_loss: 0.8976 - val_accuracy: 0.6871\n",
      "Epoch 4/10\n",
      "1250/1250 [==============================] - 6s 5ms/step - loss: 0.7887 - accuracy: 0.7202 - val_loss: 0.8997 - val_accuracy: 0.6933\n",
      "Epoch 5/10\n",
      "1250/1250 [==============================] - 6s 5ms/step - loss: 0.6902 - accuracy: 0.7573 - val_loss: 0.8530 - val_accuracy: 0.7123\n",
      "Epoch 6/10\n",
      "1250/1250 [==============================] - 6s 5ms/step - loss: 0.5895 - accuracy: 0.7910 - val_loss: 0.8302 - val_accuracy: 0.7201\n",
      "Epoch 7/10\n",
      "1250/1250 [==============================] - 6s 5ms/step - loss: 0.5035 - accuracy: 0.8207 - val_loss: 0.8542 - val_accuracy: 0.7210\n",
      "Epoch 8/10\n",
      "1250/1250 [==============================] - 6s 5ms/step - loss: 0.4240 - accuracy: 0.8491 - val_loss: 0.8898 - val_accuracy: 0.7248\n",
      "Epoch 9/10\n",
      "1250/1250 [==============================] - 6s 5ms/step - loss: 0.3498 - accuracy: 0.8756 - val_loss: 0.9366 - val_accuracy: 0.7303\n",
      "Epoch 10/10\n",
      "1250/1250 [==============================] - 6s 5ms/step - loss: 0.2852 - accuracy: 0.8979 - val_loss: 1.0136 - val_accuracy: 0.7288\n"
     ]
    }
   ],
   "source": [
    "history2 = model2.fit(train_images, train_labels, epochs=10, \n",
    "                    validation_data=(valid_images, valid_labels)) # 5/2020 nt: use validation set"
   ]
  },
  {
   "cell_type": "code",
   "execution_count": 18,
   "metadata": {
    "colab": {
     "base_uri": "https://localhost:8080/",
     "height": 329
    },
    "colab_type": "code",
    "id": "d2ASUZRUor9p",
    "outputId": "ed9130e6-d9a9-40fb-9509-39f2dec7b1a2"
   },
   "outputs": [
    {
     "name": "stdout",
     "output_type": "stream",
     "text": [
      "313/313 - 1s - loss: 1.0136 - accuracy: 0.7288\n",
      "valid_accuracy=0.7287999987602234, valid_loss=1.0136197805404663\n"
     ]
    },
    {
     "data": {
      "image/png": "[encoded data removed]",
      "text/plain": [
       "<Figure size 432x288 with 1 Axes>"
      ]
     },
     "metadata": {
      "needs_background": "light",
      "tags": []
     },
     "output_type": "display_data"
    }
   ],
   "source": [
    "plt.plot(history2.history['accuracy'], label='train_accuracy') # For TF2\n",
    "plt.plot(history2.history['val_accuracy'], label = 'valid_accuracy') # For TF2\n",
    "plt.xlabel('Epoch')\n",
    "plt.ylabel('Accuracy')\n",
    "plt.ylim([0.5, 1])\n",
    "plt.title('Changed Filter Numbers')\n",
    "plt.legend(loc='lower right')\n",
    "\n",
    "# Evaluate the learned model with validation set\n",
    "valid_loss, valid_acc = model2.evaluate(valid_images, valid_labels, verbose=2) # 5/2020 nt: use validation set\n",
    "print (\"valid_accuracy=%s, valid_loss=%s\" % (valid_acc, valid_loss))"
   ]
  },
  {
   "cell_type": "markdown",
   "metadata": {
    "colab_type": "text",
    "id": "nhwQcpEn7v9j"
   },
   "source": [
    "**Experimenting on Changing the size of filters**"
   ]
  },
  {
   "cell_type": "code",
   "execution_count": 19,
   "metadata": {
    "colab": {
     "base_uri": "https://localhost:8080/",
     "height": 391
    },
    "colab_type": "code",
    "id": "HIr45fvh72bl",
    "outputId": "a77a14ad-59ed-47cc-c1ff-ddf765c6cf81"
   },
   "outputs": [
    {
     "name": "stdout",
     "output_type": "stream",
     "text": [
      "Model: \"sequential_2\"\n",
      "_________________________________________________________________\n",
      "Layer (type)                 Output Shape              Param #   \n",
      "=================================================================\n",
      "conv2d_6 (Conv2D)            (None, 30, 30, 32)        896       \n",
      "_________________________________________________________________\n",
      "max_pooling2d_4 (MaxPooling2 (None, 15, 15, 32)        0         \n",
      "_________________________________________________________________\n",
      "conv2d_7 (Conv2D)            (None, 11, 11, 256)       205056    \n",
      "_________________________________________________________________\n",
      "max_pooling2d_5 (MaxPooling2 (None, 5, 5, 256)         0         \n",
      "_________________________________________________________________\n",
      "flatten_2 (Flatten)          (None, 6400)              0         \n",
      "_________________________________________________________________\n",
      "dense_4 (Dense)              (None, 256)               1638656   \n",
      "_________________________________________________________________\n",
      "dense_5 (Dense)              (None, 10)                2570      \n",
      "=================================================================\n",
      "Total params: 1,847,178\n",
      "Trainable params: 1,847,178\n",
      "Non-trainable params: 0\n",
      "_________________________________________________________________\n"
     ]
    }
   ],
   "source": [
    "model3 = models.Sequential()\n",
    "model3.add(layers.Conv2D(32, (3, 3), activation='relu', input_shape=(32, 32, 3)))\n",
    "model3.add(layers.MaxPooling2D((2, 2)))\n",
    "model3.add(layers.Conv2D(256, (5, 5), activation='relu'))\n",
    "model3.add(layers.MaxPooling2D((2, 2)))\n",
    "model3.add(layers.Flatten())\n",
    "model3.add(layers.Dense(256, activation='relu'))\n",
    "model3.add(layers.Dense(10, activation='softmax')) \n",
    "\n",
    "model3.summary()"
   ]
  },
  {
   "cell_type": "code",
   "execution_count": 0,
   "metadata": {
    "colab": {},
    "colab_type": "code",
    "id": "d0zRyZHc7-yZ"
   },
   "outputs": [],
   "source": [
    "model3.compile(optimizer='adam',\n",
    "              loss=tf.keras.losses.SparseCategoricalCrossentropy(from_logits=False), # For TF2\n",
    "              metrics=['accuracy'])"
   ]
  },
  {
   "cell_type": "code",
   "execution_count": 21,
   "metadata": {
    "colab": {
     "base_uri": "https://localhost:8080/",
     "height": 357
    },
    "colab_type": "code",
    "id": "pmieqjGO8MEB",
    "outputId": "905b42d0-3814-42a6-f3c0-7f9a3b3bac27"
   },
   "outputs": [
    {
     "name": "stdout",
     "output_type": "stream",
     "text": [
      "Epoch 1/10\n",
      "1250/1250 [==============================] - 5s 4ms/step - loss: 1.5091 - accuracy: 0.4564 - val_loss: 1.2919 - val_accuracy: 0.5437\n",
      "Epoch 2/10\n",
      "1250/1250 [==============================] - 5s 4ms/step - loss: 1.1536 - accuracy: 0.5912 - val_loss: 1.0694 - val_accuracy: 0.6253\n",
      "Epoch 3/10\n",
      "1250/1250 [==============================] - 5s 4ms/step - loss: 0.9926 - accuracy: 0.6515 - val_loss: 1.0000 - val_accuracy: 0.6503\n",
      "Epoch 4/10\n",
      "1250/1250 [==============================] - 5s 4ms/step - loss: 0.8666 - accuracy: 0.6934 - val_loss: 0.9455 - val_accuracy: 0.6748\n",
      "Epoch 5/10\n",
      "1250/1250 [==============================] - 5s 4ms/step - loss: 0.7641 - accuracy: 0.7297 - val_loss: 0.9151 - val_accuracy: 0.6859\n",
      "Epoch 6/10\n",
      "1250/1250 [==============================] - 5s 4ms/step - loss: 0.6644 - accuracy: 0.7670 - val_loss: 0.9476 - val_accuracy: 0.6791\n",
      "Epoch 7/10\n",
      "1250/1250 [==============================] - 5s 4ms/step - loss: 0.5739 - accuracy: 0.7994 - val_loss: 0.9540 - val_accuracy: 0.6947\n",
      "Epoch 8/10\n",
      "1250/1250 [==============================] - 5s 4ms/step - loss: 0.4896 - accuracy: 0.8242 - val_loss: 1.0084 - val_accuracy: 0.6853\n",
      "Epoch 9/10\n",
      "1250/1250 [==============================] - 5s 4ms/step - loss: 0.4070 - accuracy: 0.8568 - val_loss: 1.0637 - val_accuracy: 0.6886\n",
      "Epoch 10/10\n",
      "1250/1250 [==============================] - 5s 4ms/step - loss: 0.3308 - accuracy: 0.8840 - val_loss: 1.1169 - val_accuracy: 0.6952\n"
     ]
    }
   ],
   "source": [
    "history3 = model3.fit(train_images, train_labels, epochs=10, \n",
    "                    validation_data=(valid_images, valid_labels)) # 5/2020 nt: use validation set"
   ]
  },
  {
   "cell_type": "code",
   "execution_count": 22,
   "metadata": {
    "colab": {
     "base_uri": "https://localhost:8080/",
     "height": 329
    },
    "colab_type": "code",
    "id": "nAJWRqvV8GMt",
    "outputId": "67f88c3b-b37f-494c-cb48-e09c60004f68"
   },
   "outputs": [
    {
     "name": "stdout",
     "output_type": "stream",
     "text": [
      "313/313 - 1s - loss: 1.1169 - accuracy: 0.6952\n",
      "valid_accuracy=0.6952000260353088, valid_loss=1.116929531097412\n"
     ]
    },
    {
     "data": {
      "image/png": "[encoded data removed]",
      "text/plain": [
       "<Figure size 432x288 with 1 Axes>"
      ]
     },
     "metadata": {
      "needs_background": "light",
      "tags": []
     },
     "output_type": "display_data"
    }
   ],
   "source": [
    "plt.plot(history3.history['accuracy'], label='train_accuracy') # For TF2\n",
    "plt.plot(history3.history['val_accuracy'], label = 'valid_accuracy') # For TF2\n",
    "plt.xlabel('Epoch')\n",
    "plt.ylabel('Accuracy')\n",
    "plt.ylim([0.5, 1])\n",
    "plt.title('Changed Size of Filters')\n",
    "plt.legend(loc='lower right')\n",
    "\n",
    "# Evaluate the learned model with validation set\n",
    "valid_loss, valid_acc = model3.evaluate(valid_images, valid_labels, verbose=2) # 5/2020 nt: use validation set\n",
    "print (\"valid_accuracy=%s, valid_loss=%s\" % (valid_acc, valid_loss))"
   ]
  },
  {
   "cell_type": "markdown",
   "metadata": {
    "colab_type": "text",
    "id": "TH6R9mzK7rrb"
   },
   "source": [
    "**Experimentation on Adding Strides**"
   ]
  },
  {
   "cell_type": "code",
   "execution_count": 23,
   "metadata": {
    "colab": {
     "base_uri": "https://localhost:8080/",
     "height": 391
    },
    "colab_type": "code",
    "id": "X_rJF9K-KF67",
    "outputId": "647d1c34-54d5-4685-d862-d9de09bfdd74"
   },
   "outputs": [
    {
     "name": "stdout",
     "output_type": "stream",
     "text": [
      "Model: \"sequential_3\"\n",
      "_________________________________________________________________\n",
      "Layer (type)                 Output Shape              Param #   \n",
      "=================================================================\n",
      "conv2d_8 (Conv2D)            (None, 30, 30, 32)        896       \n",
      "_________________________________________________________________\n",
      "max_pooling2d_6 (MaxPooling2 (None, 15, 15, 32)        0         \n",
      "_________________________________________________________________\n",
      "conv2d_9 (Conv2D)            (None, 11, 11, 256)       205056    \n",
      "_________________________________________________________________\n",
      "max_pooling2d_7 (MaxPooling2 (None, 5, 5, 256)         0         \n",
      "_________________________________________________________________\n",
      "flatten_3 (Flatten)          (None, 6400)              0         \n",
      "_________________________________________________________________\n",
      "dense_6 (Dense)              (None, 256)               1638656   \n",
      "_________________________________________________________________\n",
      "dense_7 (Dense)              (None, 10)                2570      \n",
      "=================================================================\n",
      "Total params: 1,847,178\n",
      "Trainable params: 1,847,178\n",
      "Non-trainable params: 0\n",
      "_________________________________________________________________\n"
     ]
    }
   ],
   "source": [
    "model4 = models.Sequential()\n",
    "model4.add(layers.Conv2D(32, (3, 3), activation='relu', input_shape=(32, 32, 3)))\n",
    "model4.add(layers.MaxPooling2D((2, 2), strides=2))\n",
    "model4.add(layers.Conv2D(256, (5, 5), activation='relu'))\n",
    "model4.add(layers.MaxPooling2D((2, 2), strides =2))\n",
    "model4.add(layers.Flatten())\n",
    "model4.add(layers.Dense(256, activation='relu'))\n",
    "model4.add(layers.Dense(10, activation='softmax')) \n",
    "\n",
    "model4.compile(optimizer='adam',\n",
    "              loss=tf.keras.losses.SparseCategoricalCrossentropy(from_logits=False), # For TF2\n",
    "              metrics=['accuracy'])\n",
    "model4.summary()"
   ]
  },
  {
   "cell_type": "code",
   "execution_count": 24,
   "metadata": {
    "colab": {
     "base_uri": "https://localhost:8080/",
     "height": 357
    },
    "colab_type": "code",
    "id": "vaWa-pYOKGMZ",
    "outputId": "a4b3f606-c97e-4785-8b8f-c040e66dcb87"
   },
   "outputs": [
    {
     "name": "stdout",
     "output_type": "stream",
     "text": [
      "Epoch 1/10\n",
      "1250/1250 [==============================] - 6s 4ms/step - loss: 1.4839 - accuracy: 0.4637 - val_loss: 1.2356 - val_accuracy: 0.5591\n",
      "Epoch 2/10\n",
      "1250/1250 [==============================] - 6s 4ms/step - loss: 1.1241 - accuracy: 0.6051 - val_loss: 1.1189 - val_accuracy: 0.6098\n",
      "Epoch 3/10\n",
      "1250/1250 [==============================] - 5s 4ms/step - loss: 0.9585 - accuracy: 0.6623 - val_loss: 1.0670 - val_accuracy: 0.6416\n",
      "Epoch 4/10\n",
      "1250/1250 [==============================] - 5s 4ms/step - loss: 0.8414 - accuracy: 0.7053 - val_loss: 0.9371 - val_accuracy: 0.6778\n",
      "Epoch 5/10\n",
      "1250/1250 [==============================] - 5s 4ms/step - loss: 0.7336 - accuracy: 0.7434 - val_loss: 0.9029 - val_accuracy: 0.6935\n",
      "Epoch 6/10\n",
      "1250/1250 [==============================] - 5s 4ms/step - loss: 0.6439 - accuracy: 0.7737 - val_loss: 0.9021 - val_accuracy: 0.6971\n",
      "Epoch 7/10\n",
      "1250/1250 [==============================] - 5s 4ms/step - loss: 0.5565 - accuracy: 0.8048 - val_loss: 0.9340 - val_accuracy: 0.6989\n",
      "Epoch 8/10\n",
      "1250/1250 [==============================] - 5s 4ms/step - loss: 0.4712 - accuracy: 0.8336 - val_loss: 0.9896 - val_accuracy: 0.7014\n",
      "Epoch 9/10\n",
      "1250/1250 [==============================] - 5s 4ms/step - loss: 0.3891 - accuracy: 0.8639 - val_loss: 1.0967 - val_accuracy: 0.6928\n",
      "Epoch 10/10\n",
      "1250/1250 [==============================] - 5s 4ms/step - loss: 0.3199 - accuracy: 0.8867 - val_loss: 1.1797 - val_accuracy: 0.6940\n"
     ]
    }
   ],
   "source": [
    "history4 = model4.fit(train_images, train_labels, epochs=10, \n",
    "                    validation_data=(valid_images, valid_labels)) # 5/2020 nt: use validation set"
   ]
  },
  {
   "cell_type": "code",
   "execution_count": 25,
   "metadata": {
    "colab": {
     "base_uri": "https://localhost:8080/",
     "height": 329
    },
    "colab_type": "code",
    "id": "0bAfIHZwKGWQ",
    "outputId": "9fc8df7a-3de6-435c-9d7f-c053ee04e2a3"
   },
   "outputs": [
    {
     "name": "stdout",
     "output_type": "stream",
     "text": [
      "313/313 - 1s - loss: 1.1797 - accuracy: 0.6940\n",
      "valid_accuracy=0.6940000057220459, valid_loss=1.1796700954437256\n"
     ]
    },
    {
     "data": {
      "image/png": "[encoded data removed]",
      "text/plain": [
       "<Figure size 432x288 with 1 Axes>"
      ]
     },
     "metadata": {
      "needs_background": "light",
      "tags": []
     },
     "output_type": "display_data"
    }
   ],
   "source": [
    "plt.plot(history4.history['accuracy'], label='train_accuracy') # For TF2\n",
    "plt.plot(history4.history['val_accuracy'], label = 'valid_accuracy') # For TF2\n",
    "plt.xlabel('Epoch')\n",
    "plt.ylabel('Accuracy')\n",
    "plt.ylim([0.5, 1])\n",
    "plt.title('Added Strides')\n",
    "plt.legend(loc='lower right')\n",
    "\n",
    "# Evaluate the learned model with validation set\n",
    "valid_loss, valid_acc = model4.evaluate(valid_images, valid_labels, verbose=2) # 5/2020 nt: use validation set\n",
    "print (\"valid_accuracy=%s, valid_loss=%s\" % (valid_acc, valid_loss))"
   ]
  },
  {
   "cell_type": "markdown",
   "metadata": {
    "colab_type": "text",
    "id": "PfuXY-rgMHtL"
   },
   "source": [
    "**Experimentation on Adding Convolution layers and Fully Connected Layers**"
   ]
  },
  {
   "cell_type": "code",
   "execution_count": 26,
   "metadata": {
    "colab": {
     "base_uri": "https://localhost:8080/",
     "height": 459
    },
    "colab_type": "code",
    "id": "sUiAypSXMObw",
    "outputId": "b84afd1e-169b-437c-e8e6-8a0eb2dbb087"
   },
   "outputs": [
    {
     "name": "stdout",
     "output_type": "stream",
     "text": [
      "Model: \"sequential_4\"\n",
      "_________________________________________________________________\n",
      "Layer (type)                 Output Shape              Param #   \n",
      "=================================================================\n",
      "conv2d_10 (Conv2D)           (None, 30, 30, 32)        896       \n",
      "_________________________________________________________________\n",
      "conv2d_11 (Conv2D)           (None, 28, 28, 32)        9248      \n",
      "_________________________________________________________________\n",
      "max_pooling2d_8 (MaxPooling2 (None, 14, 14, 32)        0         \n",
      "_________________________________________________________________\n",
      "conv2d_12 (Conv2D)           (None, 10, 10, 256)       205056    \n",
      "_________________________________________________________________\n",
      "conv2d_13 (Conv2D)           (None, 6, 6, 256)         1638656   \n",
      "_________________________________________________________________\n",
      "max_pooling2d_9 (MaxPooling2 (None, 3, 3, 256)         0         \n",
      "_________________________________________________________________\n",
      "flatten_4 (Flatten)          (None, 2304)              0         \n",
      "_________________________________________________________________\n",
      "dense_8 (Dense)              (None, 256)               590080    \n",
      "_________________________________________________________________\n",
      "dense_9 (Dense)              (None, 10)                2570      \n",
      "=================================================================\n",
      "Total params: 2,446,506\n",
      "Trainable params: 2,446,506\n",
      "Non-trainable params: 0\n",
      "_________________________________________________________________\n"
     ]
    }
   ],
   "source": [
    "model5 = models.Sequential()\n",
    "model5.add(layers.Conv2D(32, (3, 3), activation='relu', input_shape=(32, 32, 3)))\n",
    "model5.add(layers.Conv2D(32, (3, 3), activation='relu'))\n",
    "model5.add(layers.MaxPooling2D((2, 2), strides=2))\n",
    "model5.add(layers.Conv2D(256, (5, 5), activation='relu'))\n",
    "model5.add(layers.Conv2D(256, (5, 5), activation='relu'))\n",
    "model5.add(layers.MaxPooling2D((2, 2), strides =2))\n",
    "model5.add(layers.Flatten())\n",
    "model5.add(layers.Dense(256, activation='relu'))\n",
    "model5.add(layers.Dense(10, activation='softmax')) \n",
    "\n",
    "model5.compile(optimizer='adam',\n",
    "              loss=tf.keras.losses.SparseCategoricalCrossentropy(from_logits=False), # For TF2\n",
    "              metrics=['accuracy'])\n",
    "model5.summary()"
   ]
  },
  {
   "cell_type": "code",
   "execution_count": 27,
   "metadata": {
    "colab": {
     "base_uri": "https://localhost:8080/",
     "height": 357
    },
    "colab_type": "code",
    "id": "ax0xGWy0MOjI",
    "outputId": "9651b9c1-6836-4ac6-d9d5-a83ad66e7b25"
   },
   "outputs": [
    {
     "name": "stdout",
     "output_type": "stream",
     "text": [
      "Epoch 1/10\n",
      "1250/1250 [==============================] - 11s 9ms/step - loss: 1.5004 - accuracy: 0.4429 - val_loss: 1.1437 - val_accuracy: 0.5899\n",
      "Epoch 2/10\n",
      "1250/1250 [==============================] - 11s 9ms/step - loss: 1.0216 - accuracy: 0.6353 - val_loss: 0.9417 - val_accuracy: 0.6727\n",
      "Epoch 3/10\n",
      "1250/1250 [==============================] - 11s 9ms/step - loss: 0.8189 - accuracy: 0.7129 - val_loss: 0.7793 - val_accuracy: 0.7270\n",
      "Epoch 4/10\n",
      "1250/1250 [==============================] - 11s 9ms/step - loss: 0.6836 - accuracy: 0.7623 - val_loss: 0.8108 - val_accuracy: 0.7240\n",
      "Epoch 5/10\n",
      "1250/1250 [==============================] - 11s 9ms/step - loss: 0.5796 - accuracy: 0.7947 - val_loss: 0.8112 - val_accuracy: 0.7308\n",
      "Epoch 6/10\n",
      "1250/1250 [==============================] - 11s 9ms/step - loss: 0.4774 - accuracy: 0.8325 - val_loss: 0.7985 - val_accuracy: 0.7364\n",
      "Epoch 7/10\n",
      "1250/1250 [==============================] - 11s 9ms/step - loss: 0.3822 - accuracy: 0.8644 - val_loss: 0.8396 - val_accuracy: 0.7434\n",
      "Epoch 8/10\n",
      "1250/1250 [==============================] - 11s 9ms/step - loss: 0.3038 - accuracy: 0.8927 - val_loss: 0.9493 - val_accuracy: 0.7391\n",
      "Epoch 9/10\n",
      "1250/1250 [==============================] - 11s 9ms/step - loss: 0.2438 - accuracy: 0.9126 - val_loss: 1.0581 - val_accuracy: 0.7313\n",
      "Epoch 10/10\n",
      "1250/1250 [==============================] - 11s 9ms/step - loss: 0.1939 - accuracy: 0.9322 - val_loss: 1.2056 - val_accuracy: 0.7270\n"
     ]
    }
   ],
   "source": [
    "history5 = model5.fit(train_images, train_labels, epochs=10, \n",
    "                    validation_data=(valid_images, valid_labels)) # 5/2020 nt: use validation set"
   ]
  },
  {
   "cell_type": "code",
   "execution_count": 28,
   "metadata": {
    "colab": {
     "base_uri": "https://localhost:8080/",
     "height": 329
    },
    "colab_type": "code",
    "id": "w4HULU0BMOoo",
    "outputId": "3466fae4-e64c-4883-ec5c-cfc4fb553d25"
   },
   "outputs": [
    {
     "name": "stdout",
     "output_type": "stream",
     "text": [
      "313/313 - 1s - loss: 1.2056 - accuracy: 0.7270\n",
      "valid_accuracy=0.7269999980926514, valid_loss=1.2055621147155762\n"
     ]
    },
    {
     "data": {
      "image/png": "[encoded data removed]",
      "text/plain": [
       "<Figure size 432x288 with 1 Axes>"
      ]
     },
     "metadata": {
      "needs_background": "light",
      "tags": []
     },
     "output_type": "display_data"
    }
   ],
   "source": [
    "plt.plot(history5.history['accuracy'], label='train_accuracy') # For TF2\n",
    "plt.plot(history5.history['val_accuracy'], label = 'valid_accuracy') # For TF2\n",
    "plt.xlabel('Epoch')\n",
    "plt.ylabel('Accuracy')\n",
    "plt.ylim([0.5, 1])\n",
    "plt.title('Added Extra Layers')\n",
    "plt.legend(loc='lower right')\n",
    "\n",
    "# Evaluate the learned model with validation set\n",
    "valid_loss, valid_acc = model5.evaluate(valid_images, valid_labels, verbose=2) # 5/2020 nt: use validation set\n",
    "print (\"valid_accuracy=%s, valid_loss=%s\" % (valid_acc, valid_loss))"
   ]
  },
  {
   "cell_type": "markdown",
   "metadata": {
    "colab_type": "text",
    "id": "ZozOM7CimMzv"
   },
   "source": [
    "**Experimenting on adding Dropout Layers**\n",
    "##Best MODEL##"
   ]
  },
  {
   "cell_type": "code",
   "execution_count": 29,
   "metadata": {
    "colab": {
     "base_uri": "https://localhost:8080/",
     "height": 527
    },
    "colab_type": "code",
    "id": "e09CZeNSMOre",
    "outputId": "04cb473e-ae50-4369-8f22-da2df1a55f1b"
   },
   "outputs": [
    {
     "name": "stdout",
     "output_type": "stream",
     "text": [
      "Model: \"sequential_5\"\n",
      "_________________________________________________________________\n",
      "Layer (type)                 Output Shape              Param #   \n",
      "=================================================================\n",
      "conv2d_14 (Conv2D)           (None, 30, 30, 32)        896       \n",
      "_________________________________________________________________\n",
      "conv2d_15 (Conv2D)           (None, 28, 28, 32)        9248      \n",
      "_________________________________________________________________\n",
      "max_pooling2d_10 (MaxPooling (None, 14, 14, 32)        0         \n",
      "_________________________________________________________________\n",
      "dropout (Dropout)            (None, 14, 14, 32)        0         \n",
      "_________________________________________________________________\n",
      "conv2d_16 (Conv2D)           (None, 10, 10, 256)       205056    \n",
      "_________________________________________________________________\n",
      "conv2d_17 (Conv2D)           (None, 6, 6, 256)         1638656   \n",
      "_________________________________________________________________\n",
      "max_pooling2d_11 (MaxPooling (None, 3, 3, 256)         0         \n",
      "_________________________________________________________________\n",
      "dropout_1 (Dropout)          (None, 3, 3, 256)         0         \n",
      "_________________________________________________________________\n",
      "flatten_5 (Flatten)          (None, 2304)              0         \n",
      "_________________________________________________________________\n",
      "dense_10 (Dense)             (None, 256)               590080    \n",
      "_________________________________________________________________\n",
      "dense_11 (Dense)             (None, 10)                2570      \n",
      "=================================================================\n",
      "Total params: 2,446,506\n",
      "Trainable params: 2,446,506\n",
      "Non-trainable params: 0\n",
      "_________________________________________________________________\n"
     ]
    }
   ],
   "source": [
    "model6 = models.Sequential()\n",
    "model6.add(layers.Conv2D(32, (3, 3), activation='relu', input_shape=(32, 32, 3)))\n",
    "model6.add(layers.Conv2D(32, (3, 3), activation='relu'))\n",
    "model6.add(layers.MaxPooling2D((2, 2), strides=2))\n",
    "model6.add(layers.Dropout(0.6))\n",
    "model6.add(layers.Conv2D(256, (5, 5), activation='relu'))\n",
    "model6.add(layers.Conv2D(256, (5, 5), activation='relu'))\n",
    "model6.add(layers.MaxPooling2D((2, 2), strides =2))\n",
    "model6.add(layers.Dropout(0.25))\n",
    "model6.add(layers.Flatten())\n",
    "model6.add(layers.Dense(256, activation='relu'))\n",
    "model6.add(layers.Dense(10, activation='softmax')) \n",
    "\n",
    "model6.compile(optimizer='adam',\n",
    "              loss=tf.keras.losses.SparseCategoricalCrossentropy(from_logits=False), # For TF2\n",
    "              metrics=['accuracy'])\n",
    "model6.summary()"
   ]
  },
  {
   "cell_type": "code",
   "execution_count": 30,
   "metadata": {
    "colab": {
     "base_uri": "https://localhost:8080/",
     "height": 357
    },
    "colab_type": "code",
    "id": "d2Yz0zOinCj3",
    "outputId": "45f57439-a9f3-4c4a-d95a-e006b2ff22e3"
   },
   "outputs": [
    {
     "name": "stdout",
     "output_type": "stream",
     "text": [
      "Epoch 1/10\n",
      "1250/1250 [==============================] - 11s 9ms/step - loss: 1.6004 - accuracy: 0.4077 - val_loss: 1.2671 - val_accuracy: 0.5347\n",
      "Epoch 2/10\n",
      "1250/1250 [==============================] - 11s 9ms/step - loss: 1.2188 - accuracy: 0.5676 - val_loss: 1.0735 - val_accuracy: 0.6225\n",
      "Epoch 3/10\n",
      "1250/1250 [==============================] - 11s 9ms/step - loss: 1.0561 - accuracy: 0.6264 - val_loss: 0.9601 - val_accuracy: 0.6563\n",
      "Epoch 4/10\n",
      "1250/1250 [==============================] - 11s 9ms/step - loss: 0.9538 - accuracy: 0.6632 - val_loss: 0.8854 - val_accuracy: 0.6878\n",
      "Epoch 5/10\n",
      "1250/1250 [==============================] - 11s 9ms/step - loss: 0.8783 - accuracy: 0.6908 - val_loss: 0.7957 - val_accuracy: 0.7221\n",
      "Epoch 6/10\n",
      "1250/1250 [==============================] - 11s 9ms/step - loss: 0.8267 - accuracy: 0.7102 - val_loss: 0.8522 - val_accuracy: 0.7030\n",
      "Epoch 7/10\n",
      "1250/1250 [==============================] - 11s 9ms/step - loss: 0.7898 - accuracy: 0.7187 - val_loss: 0.7694 - val_accuracy: 0.7376\n",
      "Epoch 8/10\n",
      "1250/1250 [==============================] - 11s 9ms/step - loss: 0.7543 - accuracy: 0.7331 - val_loss: 0.8292 - val_accuracy: 0.7173\n",
      "Epoch 9/10\n",
      "1250/1250 [==============================] - 11s 9ms/step - loss: 0.7198 - accuracy: 0.7486 - val_loss: 0.7640 - val_accuracy: 0.7448\n",
      "Epoch 10/10\n",
      "1250/1250 [==============================] - 11s 9ms/step - loss: 0.6947 - accuracy: 0.7574 - val_loss: 0.8090 - val_accuracy: 0.7288\n"
     ]
    }
   ],
   "source": [
    "history6 = model6.fit(train_images, train_labels, epochs=10, \n",
    "                    validation_data=(valid_images, valid_labels)) # 5/2020 nt: use validation set"
   ]
  },
  {
   "cell_type": "code",
   "execution_count": 31,
   "metadata": {
    "colab": {
     "base_uri": "https://localhost:8080/",
     "height": 329
    },
    "colab_type": "code",
    "id": "sl4eHpriMOuQ",
    "outputId": "8c32217f-1a32-4f8e-9100-313a30d29724"
   },
   "outputs": [
    {
     "name": "stdout",
     "output_type": "stream",
     "text": [
      "313/313 - 1s - loss: 0.8090 - accuracy: 0.7288\n",
      "valid_accuracy=0.7287999987602234, valid_loss=0.8090083003044128\n"
     ]
    },
    {
     "data": {
      "image/png": "[encoded data removed]",
      "text/plain": [
       "<Figure size 432x288 with 1 Axes>"
      ]
     },
     "metadata": {
      "needs_background": "light",
      "tags": []
     },
     "output_type": "display_data"
    }
   ],
   "source": [
    "plt.plot(history6.history['accuracy'], label='train_accuracy') # For TF2\n",
    "plt.plot(history6.history['val_accuracy'], label = 'valid_accuracy') # For TF2\n",
    "plt.xlabel('Epoch')\n",
    "plt.ylabel('Accuracy')\n",
    "plt.ylim([0.5, 1])\n",
    "plt.title('Added Dropout')\n",
    "plt.legend(loc='lower right')\n",
    "\n",
    "# Evaluate the learned model with validation set\n",
    "valid_loss, valid_acc = model6.evaluate(valid_images, valid_labels, verbose=2) # 5/2020 nt: use validation set\n",
    "print (\"valid_accuracy=%s, valid_loss=%s\" % (valid_acc, valid_loss))"
   ]
  },
  {
   "cell_type": "markdown",
   "metadata": {
    "colab_type": "text",
    "id": "5duDuwihtnPT"
   },
   "source": [
    "**Adding BatchNormalization**"
   ]
  },
  {
   "cell_type": "code",
   "execution_count": 32,
   "metadata": {
    "colab": {
     "base_uri": "https://localhost:8080/",
     "height": 510
    },
    "colab_type": "code",
    "id": "2Am-Z139MOw6",
    "outputId": "04edf888-e182-4454-bc1c-298d08f5502d"
   },
   "outputs": [
    {
     "name": "stdout",
     "output_type": "stream",
     "text": [
      "Model: \"sequential_6\"\n",
      "_________________________________________________________________\n",
      "Layer (type)                 Output Shape              Param #   \n",
      "=================================================================\n",
      "conv2d_18 (Conv2D)           (None, 30, 30, 32)        896       \n",
      "_________________________________________________________________\n",
      "conv2d_19 (Conv2D)           (None, 28, 28, 32)        9248      \n",
      "_________________________________________________________________\n",
      "max_pooling2d_12 (MaxPooling (None, 14, 14, 32)        0         \n",
      "_________________________________________________________________\n",
      "dropout_2 (Dropout)          (None, 14, 14, 32)        0         \n",
      "_________________________________________________________________\n",
      "conv2d_20 (Conv2D)           (None, 10, 10, 256)       205056    \n",
      "_________________________________________________________________\n",
      "conv2d_21 (Conv2D)           (None, 6, 6, 256)         1638656   \n",
      "_________________________________________________________________\n",
      "dropout_3 (Dropout)          (None, 6, 6, 256)         0         \n",
      "_________________________________________________________________\n",
      "flatten_6 (Flatten)          (None, 9216)              0         \n",
      "_________________________________________________________________\n",
      "dense_12 (Dense)             (None, 256)               2359552   \n",
      "_________________________________________________________________\n",
      "dense_13 (Dense)             (None, 10)                2570      \n",
      "=================================================================\n",
      "Total params: 4,215,978\n",
      "Trainable params: 4,215,978\n",
      "Non-trainable params: 0\n",
      "_________________________________________________________________\n"
     ]
    },
    {
     "name": "stderr",
     "output_type": "stream",
     "text": [
      "Using TensorFlow backend.\n"
     ]
    }
   ],
   "source": [
    "from keras.layers import BatchNormalization\n",
    "tf.keras.layers.BatchNormalization(\n",
    "    axis=-1,\n",
    "    momentum=0.99,\n",
    "    epsilon=0.001,\n",
    "    center=True,\n",
    "    scale=True,\n",
    "    beta_initializer=\"zeros\",\n",
    "    gamma_initializer=\"ones\",\n",
    "    moving_mean_initializer=\"zeros\",\n",
    "    moving_variance_initializer=\"ones\",\n",
    "    beta_regularizer=None,\n",
    "    gamma_regularizer=None,\n",
    "    beta_constraint=None,\n",
    "    gamma_constraint=None,\n",
    "    renorm=False,\n",
    "    renorm_clipping=None,\n",
    "    renorm_momentum=0.99,\n",
    "    fused=None,\n",
    "    trainable=True,\n",
    "    virtual_batch_size=None,\n",
    "    adjustment=None,\n",
    "    name=None\n",
    "   \n",
    ")\n",
    "\n",
    "model7 = models.Sequential()\n",
    "model7.add(layers.Conv2D(32, (3, 3), activation='relu', input_shape=(32, 32, 3)))\n",
    "#model.add(BatchNormalization())\n",
    "model7.add(layers.Conv2D(32, (3, 3), activation='relu'))\n",
    "model7.add(layers.MaxPooling2D((2, 2), strides=2))\n",
    "model7.add(layers.Dropout(0.6))\n",
    "model7.add(layers.Conv2D(256, (5, 5), activation='relu'))\n",
    "model7.add(layers.Conv2D(256, (5, 5), activation='relu'))\n",
    "model7.add(layers.Dropout(0.25))\n",
    "model7.add(layers.Flatten())\n",
    "model7.add(layers.Dense(256, activation='relu'))\n",
    "\n",
    "model7.add(layers.Dense(10, activation='softmax')) \n",
    "\n",
    "model7.compile(optimizer='adam',\n",
    "              loss=tf.keras.losses.SparseCategoricalCrossentropy(from_logits=False), # For TF2\n",
    "              metrics=['accuracy'])\n",
    "\n",
    "\n",
    "model7.summary()"
   ]
  },
  {
   "cell_type": "code",
   "execution_count": 33,
   "metadata": {
    "colab": {
     "base_uri": "https://localhost:8080/",
     "height": 357
    },
    "colab_type": "code",
    "id": "RaLDQQDSMOzj",
    "outputId": "56110b66-5cea-4bf2-9951-d64b64114b8b"
   },
   "outputs": [
    {
     "name": "stdout",
     "output_type": "stream",
     "text": [
      "Epoch 1/10\n",
      "1250/1250 [==============================] - 12s 9ms/step - loss: 1.6112 - accuracy: 0.4011 - val_loss: 1.2708 - val_accuracy: 0.5448\n",
      "Epoch 2/10\n",
      "1250/1250 [==============================] - 12s 9ms/step - loss: 1.2305 - accuracy: 0.5597 - val_loss: 1.0759 - val_accuracy: 0.6149\n",
      "Epoch 3/10\n",
      "1250/1250 [==============================] - 12s 9ms/step - loss: 1.0644 - accuracy: 0.6202 - val_loss: 0.9613 - val_accuracy: 0.6586\n",
      "Epoch 4/10\n",
      "1250/1250 [==============================] - 12s 9ms/step - loss: 0.9655 - accuracy: 0.6595 - val_loss: 0.8638 - val_accuracy: 0.7015\n",
      "Epoch 5/10\n",
      "1250/1250 [==============================] - 12s 9ms/step - loss: 0.8998 - accuracy: 0.6852 - val_loss: 0.8511 - val_accuracy: 0.7064\n",
      "Epoch 6/10\n",
      "1250/1250 [==============================] - 12s 9ms/step - loss: 0.8462 - accuracy: 0.7021 - val_loss: 0.7886 - val_accuracy: 0.7248\n",
      "Epoch 7/10\n",
      "1250/1250 [==============================] - 12s 9ms/step - loss: 0.8091 - accuracy: 0.7146 - val_loss: 0.8085 - val_accuracy: 0.7225\n",
      "Epoch 8/10\n",
      "1250/1250 [==============================] - 12s 9ms/step - loss: 0.7775 - accuracy: 0.7263 - val_loss: 0.8290 - val_accuracy: 0.7157\n",
      "Epoch 9/10\n",
      "1250/1250 [==============================] - 12s 9ms/step - loss: 0.7507 - accuracy: 0.7362 - val_loss: 0.7911 - val_accuracy: 0.7295\n",
      "Epoch 10/10\n",
      "1250/1250 [==============================] - 12s 9ms/step - loss: 0.7214 - accuracy: 0.7475 - val_loss: 0.7800 - val_accuracy: 0.7282\n"
     ]
    }
   ],
   "source": [
    "history7 = model7.fit(train_images, train_labels, epochs=10, \n",
    "                    validation_data=(valid_images, valid_labels)) "
   ]
  },
  {
   "cell_type": "code",
   "execution_count": 34,
   "metadata": {
    "colab": {
     "base_uri": "https://localhost:8080/",
     "height": 329
    },
    "colab_type": "code",
    "id": "cjLXaEX7MO2I",
    "outputId": "b40bf925-2f0b-4975-896d-3736c530645c"
   },
   "outputs": [
    {
     "name": "stdout",
     "output_type": "stream",
     "text": [
      "313/313 - 1s - loss: 0.7800 - accuracy: 0.7282\n",
      "valid_accuracy=0.7282000184059143, valid_loss=0.7800444960594177\n"
     ]
    },
    {
     "data": {
      "image/png": "[encoded data removed]",
      "text/plain": [
       "<Figure size 432x288 with 1 Axes>"
      ]
     },
     "metadata": {
      "needs_background": "light",
      "tags": []
     },
     "output_type": "display_data"
    }
   ],
   "source": [
    "plt.plot(history7.history['accuracy'], label='train_accuracy') # For TF2\n",
    "plt.plot(history7.history['val_accuracy'], label = 'valid_accuracy') # For TF2\n",
    "plt.xlabel('Epoch')\n",
    "plt.ylabel('Accuracy')\n",
    "plt.ylim([0.5, 1])\n",
    "plt.title('Added BatchLayerNormalization')\n",
    "plt.legend(loc='lower right')\n",
    "\n",
    "# Evaluate the learned model with validation set\n",
    "valid_loss, valid_acc = model7.evaluate(valid_images, valid_labels, verbose=2) # 5/2020 nt: use validation set\n",
    "print (\"valid_accuracy=%s, valid_loss=%s\" % (valid_acc, valid_loss))"
   ]
  },
  {
   "cell_type": "code",
   "execution_count": 0,
   "metadata": {
    "colab": {},
    "colab_type": "code",
    "id": "z6WohpSh1Yar"
   },
   "outputs": [],
   "source": [
    "import pandas as pd\n",
    "\n",
    "x = model6.predict(valid_images)\n",
    "df = pd.DataFrame(x,  columns=['cat0','cat1','cat2','cat3','cat4','cat5','cat6','cat7','cat8','cat9'])\n",
    "df.index.name = 'id'\n",
    "df.index = df.index + 1"
   ]
  },
  {
   "cell_type": "code",
   "execution_count": 0,
   "metadata": {
    "colab": {},
    "colab_type": "code",
    "id": "TovVOhMD1gVS"
   },
   "outputs": [],
   "source": [
    "df.to_csv ('submission.csv',  header=True)"
   ]
  },
  {
   "cell_type": "markdown",
   "metadata": {
    "colab_type": "text",
    "id": "5C4YwJ7mU4Qn"
   },
   "source": [
    "For lower value submissions this model below was choosen but the better model is model 6"
   ]
  },
  {
   "cell_type": "code",
   "execution_count": 36,
   "metadata": {
    "colab": {
     "base_uri": "https://localhost:8080/",
     "height": 459
    },
    "colab_type": "code",
    "id": "a_X4ip6VIQLZ",
    "outputId": "06f04567-fb0c-4e25-c00d-a737acfd7633"
   },
   "outputs": [
    {
     "name": "stdout",
     "output_type": "stream",
     "text": [
      "Model: \"sequential_7\"\n",
      "_________________________________________________________________\n",
      "Layer (type)                 Output Shape              Param #   \n",
      "=================================================================\n",
      "conv2d_22 (Conv2D)           (None, 30, 30, 1)         28        \n",
      "_________________________________________________________________\n",
      "max_pooling2d_13 (MaxPooling (None, 6, 6, 1)           0         \n",
      "_________________________________________________________________\n",
      "dropout_4 (Dropout)          (None, 6, 6, 1)           0         \n",
      "_________________________________________________________________\n",
      "conv2d_23 (Conv2D)           (None, 4, 4, 1)           10        \n",
      "_________________________________________________________________\n",
      "dropout_5 (Dropout)          (None, 4, 4, 1)           0         \n",
      "_________________________________________________________________\n",
      "flatten_7 (Flatten)          (None, 16)                0         \n",
      "_________________________________________________________________\n",
      "dense_14 (Dense)             (None, 1)                 17        \n",
      "_________________________________________________________________\n",
      "dropout_6 (Dropout)          (None, 1)                 0         \n",
      "_________________________________________________________________\n",
      "dense_15 (Dense)             (None, 10)                20        \n",
      "=================================================================\n",
      "Total params: 75\n",
      "Trainable params: 75\n",
      "Non-trainable params: 0\n",
      "_________________________________________________________________\n"
     ]
    }
   ],
   "source": [
    "from keras.layers import BatchNormalization\n",
    "tf.keras.layers.BatchNormalization(\n",
    "    axis=-1,\n",
    "    momentum=0.99,\n",
    "    epsilon=0.001,\n",
    "    center=True,\n",
    "    scale=True,\n",
    "    beta_initializer=\"zeros\",\n",
    "    gamma_initializer=\"ones\",\n",
    "    moving_mean_initializer=\"zeros\",\n",
    "    moving_variance_initializer=\"ones\",\n",
    "    beta_regularizer=None,\n",
    "    gamma_regularizer=None,\n",
    "    beta_constraint=None,\n",
    "    gamma_constraint=None,\n",
    "    renorm=False,\n",
    "    renorm_clipping=None,\n",
    "    renorm_momentum=0.99,\n",
    "    fused=None,\n",
    "    trainable=True,\n",
    "    virtual_batch_size=None,\n",
    "    adjustment=None,\n",
    "    name=None\n",
    "   \n",
    ")\n",
    "\n",
    "model8 = models.Sequential()\n",
    "model8.add(layers.Conv2D(1, (3, 3), activation='relu', input_shape=(32, 32, 3)))\n",
    "model8.add(layers.MaxPooling2D((2, 2), strides=5))\n",
    "model8.add(layers.Dropout(.99))\n",
    "model8.add(layers.Conv2D(1, (3, 3), activation='relu'))\n",
    "model8.add(layers.Dropout(0.9))\n",
    "model8.add(layers.Flatten())\n",
    "model8.add(layers.Dense(1, activation='relu'))\n",
    "model8.add(layers.Dropout(0.99))\n",
    "model8.add(layers.Dense(10, activation='softmax')) \n",
    "\n",
    "model8.compile(optimizer='RMSProp',\n",
    "              loss=tf.keras.losses.SparseCategoricalCrossentropy(from_logits=False), # For TF2\n",
    "              metrics=['accuracy'])\n",
    "\n",
    "\n",
    "model8.summary()"
   ]
  },
  {
   "cell_type": "code",
   "execution_count": 37,
   "metadata": {
    "colab": {
     "base_uri": "https://localhost:8080/",
     "height": 357
    },
    "colab_type": "code",
    "id": "jgM_iEaQILII",
    "outputId": "99ab6a6d-47fb-4823-b897-eae766034aad"
   },
   "outputs": [
    {
     "name": "stdout",
     "output_type": "stream",
     "text": [
      "Epoch 1/10\n",
      "1250/1250 [==============================] - 5s 4ms/step - loss: 2.3028 - accuracy: 0.0988 - val_loss: 2.3028 - val_accuracy: 0.0992\n",
      "Epoch 2/10\n",
      "1250/1250 [==============================] - 4s 3ms/step - loss: 2.3077 - accuracy: 0.0980 - val_loss: 2.3027 - val_accuracy: 0.0957\n",
      "Epoch 3/10\n",
      "1250/1250 [==============================] - 4s 3ms/step - loss: 2.3028 - accuracy: 0.0992 - val_loss: 2.3027 - val_accuracy: 0.0972\n",
      "Epoch 4/10\n",
      "1250/1250 [==============================] - 4s 3ms/step - loss: 2.3029 - accuracy: 0.0988 - val_loss: 2.3027 - val_accuracy: 0.0963\n",
      "Epoch 5/10\n",
      "1250/1250 [==============================] - 4s 3ms/step - loss: 2.3369 - accuracy: 0.0978 - val_loss: 2.3027 - val_accuracy: 0.1000\n",
      "Epoch 6/10\n",
      "1250/1250 [==============================] - 4s 3ms/step - loss: 2.3028 - accuracy: 0.0961 - val_loss: 2.3026 - val_accuracy: 0.1001\n",
      "Epoch 7/10\n",
      "1250/1250 [==============================] - 4s 3ms/step - loss: 2.3028 - accuracy: 0.0982 - val_loss: 2.3026 - val_accuracy: 0.1002\n",
      "Epoch 8/10\n",
      "1250/1250 [==============================] - 4s 4ms/step - loss: 2.3028 - accuracy: 0.1008 - val_loss: 2.3027 - val_accuracy: 0.0996\n",
      "Epoch 9/10\n",
      "1250/1250 [==============================] - 5s 4ms/step - loss: 2.3040 - accuracy: 0.0959 - val_loss: 2.3026 - val_accuracy: 0.1000\n",
      "Epoch 10/10\n",
      "1250/1250 [==============================] - 5s 4ms/step - loss: 2.3028 - accuracy: 0.0973 - val_loss: 2.3026 - val_accuracy: 0.0994\n"
     ]
    }
   ],
   "source": [
    "history8 = model8.fit(train_images, train_labels, epochs=10, \n",
    "                    validation_data=(valid_images, valid_labels)) "
   ]
  },
  {
   "cell_type": "code",
   "execution_count": 40,
   "metadata": {
    "colab": {
     "base_uri": "https://localhost:8080/",
     "height": 68
    },
    "colab_type": "code",
    "id": "hmyxlxsYrZBp",
    "outputId": "37c46c26-f855-46f3-c6f1-a74f563582b2"
   },
   "outputs": [
    {
     "name": "stdout",
     "output_type": "stream",
     "text": [
      "313/313 - 1s - loss: 0.9705 - accuracy: 0.6860\n",
      "Restored model, accuracy: 68.60%\n",
      "(10000, 10)\n"
     ]
    }
   ],
   "source": [
    "# Evaluate the restored model\n",
    "loss, acc = model.evaluate(valid_images,  valid_labels, verbose=2)\n",
    "print('Restored model, accuracy: {:5.2f}%'.format(100*acc))\n",
    "print(model6.predict(valid_images).shape)"
   ]
  }
 ],
 "metadata": {
  "accelerator": "GPU",
  "colab": {
   "collapsed_sections": [],
   "name": "cnn_578.ipynb",
   "provenance": [],
   "toc_visible": true
  },
  "kernelspec": {
   "display_name": "Python 3",
   "language": "python",
   "name": "python3"
  },
  "language_info": {
   "codemirror_mode": {
    "name": "ipython",
    "version": 3
   },
   "file_extension": ".py",
   "mimetype": "text/x-python",
   "name": "python",
   "nbconvert_exporter": "python",
   "pygments_lexer": "ipython3",
   "version": "3.7.3"
  }
 },
 "nbformat": 4,
 "nbformat_minor": 1
}
