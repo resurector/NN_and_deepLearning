{
 "cells": [
  {
   "cell_type": "markdown",
   "metadata": {
    "colab_type": "text",
    "id": "5Hzh2H7Z9V1w"
   },
   "source": [
    "## 578hw3-initial.ipynb\n",
    "#### Run all cells in this file with the original \"NN578_network.py\" to ensure the code runs on your platform."
   ]
  },
  {
   "cell_type": "markdown",
   "metadata": {
    "colab_type": "text",
    "id": "-kGz6NZXFPbj"
   },
   "source": [
    "<b>NOTE</b>: This is a version for Google CoLab. <br>\n",
    "If you make changes to the .py file (which you are importing), you must restart the kernel and run the code again.  To do so you select **'Runtime'** and **'Restart and run all..'**"
   ]
  },
  {
   "cell_type": "code",
   "execution_count": 1,
   "metadata": {
    "colab": {
     "base_uri": "https://localhost:8080/",
     "height": 35
    },
    "colab_type": "code",
    "executionInfo": {
     "elapsed": 148,
     "status": "ok",
     "timestamp": 1586891095151,
     "user": {
      "displayName": "Noriko T",
      "photoUrl": "",
      "userId": "06082512421306527471"
     },
     "user_tz": 300
    },
    "id": "gHdTauhL9YQ5",
    "outputId": "fc07125d-6bba-481f-ed2d-97038fb704bd"
   },
   "outputs": [
    {
     "name": "stdout",
     "output_type": "stream",
     "text": [
      "Drive already mounted at /content/drive; to attempt to forcibly remount, call drive.mount(\"/content/drive\", force_remount=True).\n"
     ]
    }
   ],
   "source": [
    "## Code piece to mount my Google Drive\n",
    "from google.colab import drive \n",
    "drive.mount(\"/content/drive\")"
   ]
  },
  {
   "cell_type": "code",
   "execution_count": 8,
   "metadata": {
    "colab": {
     "base_uri": "https://localhost:8080/",
     "height": 191
    },
    "colab_type": "code",
    "executionInfo": {
     "elapsed": 1406,
     "status": "ok",
     "timestamp": 1586891417811,
     "user": {
      "displayName": "Noriko T",
      "photoUrl": "",
      "userId": "06082512421306527471"
     },
     "user_tz": 300
    },
    "id": "vVykuvoy-lF1",
    "outputId": "5ace0a96-5880-416b-8c15-9f11f6761a6b"
   },
   "outputs": [
    {
     "name": "stdout",
     "output_type": "stream",
     "text": [
      "total 36\n",
      "-rw------- 1 root root 3453 Sep 23  2019 578hw2.ipynb\n",
      "-rw------- 1 root root 2444 Apr 14 18:29 578hw3-checktestset.ipynb\n",
      "-rw------- 1 root root 6005 Apr 14 19:09 578hw3-initial.ipynb\n",
      "-rw------- 1 root root 1397 Apr 14 18:29 578hw3.ipynb\n",
      "-rw------- 1 root root 5920 Sep 23  2019 iris4-20-7-3.dat\n",
      "-rw------- 1 root root  468 Sep 23  2019 iris-423.dat\n",
      "-rw------- 1 root root 3301 Apr 14 18:29 iris.csv\n",
      "-rw------- 1 root root 8305 Apr 14 19:03 NN578_network.py\n",
      "drwx------ 2 root root 4096 Apr 14 19:04 __pycache__\n"
     ]
    }
   ],
   "source": [
    "# See the list of files in this local folder (the example here is 'Temp')\n",
    "!ls -l '/content/drive/My Drive/Temp'"
   ]
  },
  {
   "cell_type": "code",
   "execution_count": 9,
   "metadata": {
    "colab": {
     "base_uri": "https://localhost:8080/",
     "height": 191
    },
    "colab_type": "code",
    "executionInfo": {
     "elapsed": 1262,
     "status": "ok",
     "timestamp": 1586891427971,
     "user": {
      "displayName": "Noriko T",
      "photoUrl": "",
      "userId": "06082512421306527471"
     },
     "user_tz": 300
    },
    "id": "tLSvDK-0_kvj",
    "outputId": "49f4c0c5-822a-48c0-ae87-6d8218de415f"
   },
   "outputs": [
    {
     "name": "stdout",
     "output_type": "stream",
     "text": [
      "total 36\n",
      "-rw------- 1 root root 3453 Sep 23  2019 578hw2.ipynb\n",
      "-rw------- 1 root root 2444 Apr 14 18:29 578hw3-checktestset.ipynb\n",
      "-rw------- 1 root root 6005 Apr 14 19:09 578hw3-initial.ipynb\n",
      "-rw------- 1 root root 1397 Apr 14 18:29 578hw3.ipynb\n",
      "-rw------- 1 root root 5920 Sep 23  2019 iris4-20-7-3.dat\n",
      "-rw------- 1 root root  468 Sep 23  2019 iris-423.dat\n",
      "-rw------- 1 root root 3301 Apr 14 18:29 iris.csv\n",
      "-rw------- 1 root root 8305 Apr 14 19:03 NN578_network.py\n",
      "drwx------ 2 root root 4096 Apr 14 19:04 __pycache__\n"
     ]
    }
   ],
   "source": [
    "# Change the working directory to that 'Temp' folder\n",
    "import os\n",
    "os.chdir('/content/drive/My Drive/Temp')\n",
    "\n",
    "# Ensure the files are there (in the 'Temp' folder)\n",
    "!ls -l"
   ]
  },
  {
   "cell_type": "code",
   "execution_count": 0,
   "metadata": {
    "colab": {},
    "colab_type": "code",
    "id": "cXX0pWms9V1y"
   },
   "outputs": [],
   "source": [
    "import NN578_network as network\n",
    "import numpy as np"
   ]
  },
  {
   "cell_type": "code",
   "execution_count": 0,
   "metadata": {
    "colab": {},
    "colab_type": "code",
    "id": "CGFaoFdG9V13"
   },
   "outputs": [],
   "source": [
    "# Load the dataset (already in the 'one-hot-vector' format for the target)\n",
    "# Call the function to load the data.\n",
    "iris_data = network.my_load_csv('iris.csv', 4, 3)"
   ]
  },
  {
   "cell_type": "code",
   "execution_count": 6,
   "metadata": {
    "colab": {
     "base_uri": "https://localhost:8080/",
     "height": 52
    },
    "colab_type": "code",
    "executionInfo": {
     "elapsed": 2383,
     "status": "ok",
     "timestamp": 1586891098101,
     "user": {
      "displayName": "Noriko T",
      "photoUrl": "",
      "userId": "06082512421306527471"
     },
     "user_tz": 300
    },
    "id": "dqcGCbwg9V16",
    "outputId": "5b03437c-5df5-4aae-df3b-dc1005e3ef96"
   },
   "outputs": [
    {
     "name": "stdout",
     "output_type": "stream",
     "text": [
      "Epoch 0 complete.\n",
      "Epoch 1 complete.\n"
     ]
    }
   ],
   "source": [
    "# Create a network from the saved network\n",
    "net1 = network.load_network(\"iris-423.dat\")\n",
    "\n",
    "# Train the network for 2 epochs, with minibatch size 10, eta=0.7 and no testset.\n",
    "# Note the original function SGD does not return anything, so no attempt is made\n",
    "# to receive the returned value. \n",
    "net1.SGD(iris_data, 2, 10, 0.7)"
   ]
  },
  {
   "cell_type": "code",
   "execution_count": 7,
   "metadata": {
    "colab": {
     "base_uri": "https://localhost:8080/",
     "height": 52
    },
    "colab_type": "code",
    "executionInfo": {
     "elapsed": 2224,
     "status": "ok",
     "timestamp": 1586891098102,
     "user": {
      "displayName": "Noriko T",
      "photoUrl": "",
      "userId": "06082512421306527471"
     },
     "user_tz": 300
    },
    "id": "w12eVWSY9V1_",
    "outputId": "0f77b156-c5c7-4d0a-b8b0-16218635fed0"
   },
   "outputs": [
    {
     "name": "stdout",
     "output_type": "stream",
     "text": [
      "Epoch 0: 50 / 150\n",
      "Epoch 1: 50 / 150\n"
     ]
    }
   ],
   "source": [
    "# re-load the saved network and run it again this time with the test data \n",
    "# (though the same dataset, just to check).\n",
    "net2 = network.load_network(\"iris-423.dat\")\n",
    "net2.SGD(iris_data, 2, 10, 0.7, iris_data)"
   ]
  }
 ],
 "metadata": {
  "colab": {
   "collapsed_sections": [],
   "name": "578hw3-initial.ipynb",
   "provenance": []
  },
  "kernelspec": {
   "display_name": "Python 3",
   "language": "python",
   "name": "python3"
  },
  "language_info": {
   "codemirror_mode": {
    "name": "ipython",
    "version": 3
   },
   "file_extension": ".py",
   "mimetype": "text/x-python",
   "name": "python",
   "nbconvert_exporter": "python",
   "pygments_lexer": "ipython3",
   "version": "3.7.3"
  }
 },
 "nbformat": 4,
 "nbformat_minor": 1
}
