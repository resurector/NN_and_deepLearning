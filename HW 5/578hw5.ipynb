{
 "cells": [
  {
   "cell_type": "markdown",
   "metadata": {
    "collapsed": true
   },
   "source": [
    "# 578hw5 -- Start-up application code"
   ]
  },
  {
   "cell_type": "markdown",
   "metadata": {},
   "source": [
    "## (0) Tiny experiment with One-training-One-test Iris data\n",
    "### [You can run the start-up code as is to generate this.]"
   ]
  },
  {
   "cell_type": "code",
   "execution_count": 3,
   "metadata": {},
   "outputs": [
    {
     "name": "stdout",
     "output_type": "stream",
     "text": [
      "Epoch 0 training complete\n",
      "Cost on training data: 0.26673128660052947\n",
      "Accuracy on training data: 1 / 1\n",
      "Cost on evaluation data: 0.3244002758397572\n",
      "Accuracy on evaluation data: 0 / 1\n",
      "\n",
      "Epoch 1 training complete\n",
      "Cost on training data: 0.2107866577006649\n",
      "Accuracy on training data: 1 / 1\n",
      "Cost on evaluation data: 0.37647122809828165\n",
      "Accuracy on evaluation data: 0 / 1\n",
      "\n"
     ]
    },
    {
     "data": {
      "text/plain": [
       "([0.3244002758397572, 0.37647122809828165],\n",
       " [0, 0],\n",
       " [0.26673128660052947, 0.2107866577006649],\n",
       " [1, 1])"
      ]
     },
     "execution_count": 3,
     "metadata": {},
     "output_type": "execute_result"
    }
   ],
   "source": [
    "import NN578_network2 as network2\n",
    "import numpy as np\n",
    "\n",
    "# Test with one-data Iris data\n",
    "\n",
    "inst1 = (np.array([5.7, 3, 4.2, 1.2]), np.array([0., 1., 0.]))\n",
    "x1 = np.reshape(inst1[0], (4, 1))\n",
    "y1 = np.reshape(inst1[1], (3, 1))\n",
    "sample1 = [(x1, y1)]\n",
    "inst2 = (np.array([4.8, 3.4, 1.6, 0.2]), np.array([1., 0., 0.]))\n",
    "x2 = np.reshape(inst2[0], (4, 1))\n",
    "y2 = np.reshape(inst2[1], (3, 1))\n",
    "sample2 = [(x2, y2)]\n",
    "\n",
    "net4 = network2.load_network(\"iris-423.dat\")\n",
    "net4.set_parameters(cost=network2.QuadraticCost)\n",
    "\n",
    "net4.SGD(sample1, 2, 1, 1.0, evaluation_data=sample2, monitor_evaluation_cost=True, \n",
    "            monitor_evaluation_accuracy=True,\n",
    "            monitor_training_cost=True,\n",
    "            monitor_training_accuracy=True)"
   ]
  },
  {
   "cell_type": "markdown",
   "metadata": {},
   "source": [
    "## Load the iris_train, iris_test datasets"
   ]
  },
  {
   "cell_type": "code",
   "execution_count": 4,
   "metadata": {},
   "outputs": [],
   "source": [
    "# Load the iris train-test (separate) data files\n",
    "def my_load_csv(fname, no_trainfeatures, no_testfeatures):\n",
    "    ret = np.genfromtxt(fname, delimiter=',')\n",
    "    data = np.array([(entry[:no_trainfeatures],entry[no_trainfeatures:]) for entry in ret])\n",
    "    temp_inputs = [np.reshape(x, (no_trainfeatures, 1)) for x in data[:,0]]\n",
    "    temp_results = [np.reshape(y, (no_testfeatures, 1)) for y in data[:,1]]\n",
    "    dataset = list(zip(temp_inputs, temp_results))\n",
    "    return dataset\n",
    "\n",
    "iris_train = my_load_csv('iris-train-1.csv', 4, 3)\n",
    "iris_test = my_load_csv('iris-test-1.csv', 4, 3)"
   ]
  },
  {
   "cell_type": "markdown",
   "metadata": {},
   "source": [
    "## (1) Sigmoid + Sigmoid + QuadraticCost \n",
    "### [You can run the start-up code as is to generate this.]"
   ]
  },
  {
   "cell_type": "code",
   "execution_count": 5,
   "metadata": {},
   "outputs": [
    {
     "name": "stdout",
     "output_type": "stream",
     "text": [
      "Epoch 0 training complete\n",
      "Cost on training data: 0.3392795030659105\n",
      "Accuracy on training data: 21 / 95\n",
      "Cost on evaluation data: 0.34444833747414394\n",
      "Accuracy on evaluation data: 15 / 55\n",
      "\n",
      "Epoch 1 training complete\n",
      "Cost on training data: 0.3332680387432046\n",
      "Accuracy on training data: 33 / 95\n",
      "Cost on evaluation data: 0.3357508215659017\n",
      "Accuracy on evaluation data: 17 / 55\n",
      "\n",
      "Epoch 2 training complete\n",
      "Cost on training data: 0.33169864345910943\n",
      "Accuracy on training data: 33 / 95\n",
      "Cost on evaluation data: 0.33331819877313307\n",
      "Accuracy on evaluation data: 17 / 55\n",
      "\n",
      "Epoch 3 training complete\n",
      "Cost on training data: 0.3280047701277544\n",
      "Accuracy on training data: 33 / 95\n",
      "Cost on evaluation data: 0.32931297694327877\n",
      "Accuracy on evaluation data: 17 / 55\n",
      "\n",
      "Epoch 4 training complete\n",
      "Cost on training data: 0.3105024143021552\n",
      "Accuracy on training data: 65 / 95\n",
      "Cost on evaluation data: 0.311452504680719\n",
      "Accuracy on evaluation data: 35 / 55\n",
      "\n",
      "Epoch 5 training complete\n",
      "Cost on training data: 0.2822226213778409\n",
      "Accuracy on training data: 64 / 95\n",
      "Cost on evaluation data: 0.2826664474869378\n",
      "Accuracy on evaluation data: 39 / 55\n",
      "\n",
      "Epoch 6 training complete\n",
      "Cost on training data: 0.26185308519985034\n",
      "Accuracy on training data: 65 / 95\n",
      "Cost on evaluation data: 0.26222211632361037\n",
      "Accuracy on evaluation data: 40 / 55\n",
      "\n",
      "Epoch 7 training complete\n",
      "Cost on training data: 0.24637620748622574\n",
      "Accuracy on training data: 64 / 95\n",
      "Cost on evaluation data: 0.24693122708939252\n",
      "Accuracy on evaluation data: 40 / 55\n",
      "\n",
      "Epoch 8 training complete\n",
      "Cost on training data: 0.23397287354343002\n",
      "Accuracy on training data: 65 / 95\n",
      "Cost on evaluation data: 0.23484243915532602\n",
      "Accuracy on evaluation data: 41 / 55\n",
      "\n",
      "Epoch 9 training complete\n",
      "Cost on training data: 0.2240389321795399\n",
      "Accuracy on training data: 67 / 95\n",
      "Cost on evaluation data: 0.22523745295521988\n",
      "Accuracy on evaluation data: 41 / 55\n",
      "\n",
      "Epoch 10 training complete\n",
      "Cost on training data: 0.21604989548513\n",
      "Accuracy on training data: 70 / 95\n",
      "Cost on evaluation data: 0.21755153109277017\n",
      "Accuracy on evaluation data: 44 / 55\n",
      "\n",
      "Epoch 11 training complete\n",
      "Cost on training data: 0.2095762015532569\n",
      "Accuracy on training data: 73 / 95\n",
      "Cost on evaluation data: 0.21134700807259035\n",
      "Accuracy on evaluation data: 47 / 55\n",
      "\n",
      "Epoch 12 training complete\n",
      "Cost on training data: 0.20428080318467826\n",
      "Accuracy on training data: 81 / 95\n",
      "Cost on evaluation data: 0.20628846293823358\n",
      "Accuracy on evaluation data: 52 / 55\n",
      "\n",
      "Epoch 13 training complete\n",
      "Cost on training data: 0.19990418595499365\n",
      "Accuracy on training data: 94 / 95\n",
      "Cost on evaluation data: 0.20212044282632813\n",
      "Accuracy on evaluation data: 54 / 55\n",
      "\n",
      "Epoch 14 training complete\n",
      "Cost on training data: 0.19624754621498341\n",
      "Accuracy on training data: 65 / 95\n",
      "Cost on evaluation data: 0.19864854335473608\n",
      "Accuracy on evaluation data: 35 / 55\n",
      "\n"
     ]
    },
    {
     "data": {
      "text/plain": [
       "([0.34444833747414394,\n",
       "  0.3357508215659017,\n",
       "  0.33331819877313307,\n",
       "  0.32931297694327877,\n",
       "  0.311452504680719,\n",
       "  0.2826664474869378,\n",
       "  0.26222211632361037,\n",
       "  0.24693122708939252,\n",
       "  0.23484243915532602,\n",
       "  0.22523745295521988,\n",
       "  0.21755153109277017,\n",
       "  0.21134700807259035,\n",
       "  0.20628846293823358,\n",
       "  0.20212044282632813,\n",
       "  0.19864854335473608],\n",
       " [15, 17, 17, 17, 35, 39, 40, 40, 41, 41, 44, 47, 52, 54, 35],\n",
       " [0.3392795030659105,\n",
       "  0.3332680387432046,\n",
       "  0.33169864345910943,\n",
       "  0.3280047701277544,\n",
       "  0.3105024143021552,\n",
       "  0.2822226213778409,\n",
       "  0.26185308519985034,\n",
       "  0.24637620748622574,\n",
       "  0.23397287354343002,\n",
       "  0.2240389321795399,\n",
       "  0.21604989548513,\n",
       "  0.2095762015532569,\n",
       "  0.20428080318467826,\n",
       "  0.19990418595499365,\n",
       "  0.19624754621498341],\n",
       " [21, 33, 33, 33, 65, 64, 65, 64, 65, 67, 70, 73, 81, 94, 65])"
      ]
     },
     "execution_count": 5,
     "metadata": {},
     "output_type": "execute_result"
    }
   ],
   "source": [
    "net2 = network2.load_network(\"iris-423.dat\")\n",
    "\n",
    "# Set hyper-parameter values individually after the network\n",
    "net2.set_parameters(cost=network2.QuadraticCost, act_hidden=network2.Sigmoid, act_output=network2.Sigmoid)\n",
    "\n",
    "net2.SGD(iris_train, 15, 10, 1.0, evaluation_data=iris_test, monitor_evaluation_cost=True, \n",
    "            monitor_evaluation_accuracy=True,\n",
    "            monitor_training_cost=True,\n",
    "            monitor_training_accuracy=True)"
   ]
  },
  {
   "cell_type": "code",
   "execution_count": null,
   "metadata": {},
   "outputs": [],
   "source": []
  }
 ],
 "metadata": {
  "kernelspec": {
   "display_name": "Python 3",
   "language": "python",
   "name": "python3"
  },
  "language_info": {
   "codemirror_mode": {
    "name": "ipython",
    "version": 3
   },
   "file_extension": ".py",
   "mimetype": "text/x-python",
   "name": "python",
   "nbconvert_exporter": "python",
   "pygments_lexer": "ipython3",
   "version": "3.7.4"
  }
 },
 "nbformat": 4,
 "nbformat_minor": 2
}
