{
 "cells": [
  {
   "cell_type": "markdown",
   "metadata": {
    "colab_type": "text",
    "id": "jd3FhRw5uljH"
   },
   "source": [
    "**RASHEED HAMEED **\n",
    "**CSC 578 Neural Networks and Deep Learning – Section 910 **\n",
    "**Homework 4**\n"
   ]
  },
  {
   "cell_type": "code",
   "execution_count": 8,
   "metadata": {
    "colab": {
     "base_uri": "https://localhost:8080/",
     "height": 34
    },
    "colab_type": "code",
    "id": "wi6xLWhfn6qg",
    "outputId": "e4c3d04c-075b-4fd9-8d15-c72c83adcd6b"
   },
   "outputs": [
    {
     "name": "stderr",
     "output_type": "stream",
     "text": [
      "Using TensorFlow backend.\n"
     ]
    }
   ],
   "source": [
    "# TensorFlow and tf.keras\n",
    "import tensorflow as tf\n",
    "from tensorflow import keras\n",
    "\n",
    "# Helper libraries\n",
    "import numpy as np\n",
    "import matplotlib.pyplot as plt\n",
    "\n",
    "from keras import regularizers\n"
   ]
  },
  {
   "cell_type": "code",
   "execution_count": 9,
   "metadata": {
    "colab": {},
    "colab_type": "code",
    "id": "bIaSGDT8n9Tg"
   },
   "outputs": [],
   "source": [
    "fashion_mnist = keras.datasets.fashion_mnist\n",
    "\n",
    "(train_images, train_labels), (test_images, test_labels) = fashion_mnist.load_data()"
   ]
  },
  {
   "cell_type": "code",
   "execution_count": 10,
   "metadata": {
    "colab": {},
    "colab_type": "code",
    "id": "OuWgYXgEoATv"
   },
   "outputs": [],
   "source": [
    "class_names = ['T-shirt/top', 'Trouser', 'Pullover', 'Dress', 'Coat',\n",
    "               'Sandal', 'Shirt', 'Sneaker', 'Bag', 'Ankle boot']"
   ]
  },
  {
   "cell_type": "code",
   "execution_count": 11,
   "metadata": {
    "colab": {},
    "colab_type": "code",
    "id": "DRIoIzPSoCtw"
   },
   "outputs": [],
   "source": [
    "train_images = train_images / 255.0\n",
    "\n",
    "test_images = test_images / 255.0"
   ]
  },
  {
   "cell_type": "code",
   "execution_count": 12,
   "metadata": {
    "colab": {},
    "colab_type": "code",
    "id": "-Mc9PlHmoHNf"
   },
   "outputs": [],
   "source": [
    "model1 = keras.Sequential([\n",
    "    keras.layers.Flatten(input_shape=(28, 28)),\n",
    "    keras.layers.Dense(50, activation='tanh',kernel_regularizer=regularizers.l2(0.01),\n",
    "                activity_regularizer=regularizers.l1(0.01)),\n",
    "    keras.layers.Dense(10)\n",
    "])\n",
    "model1.compile(optimizer='adam',\n",
    "              loss=tf.keras.losses.SparseCategoricalCrossentropy(from_logits=True),\n",
    "              metrics=['accuracy'])"
   ]
  },
  {
   "cell_type": "code",
   "execution_count": 13,
   "metadata": {
    "colab": {
     "base_uri": "https://localhost:8080/",
     "height": 374
    },
    "colab_type": "code",
    "id": "91EsFcnjoQmQ",
    "outputId": "1a70eaad-1cf6-46b1-c182-9bdb253005eb"
   },
   "outputs": [
    {
     "name": "stdout",
     "output_type": "stream",
     "text": [
      "Train on 60000 samples\n",
      "Epoch 1/10\n",
      "60000/60000 [==============================] - 13s 210us/sample - loss: 0.9858 - accuracy: 0.7968\n",
      "Epoch 2/10\n",
      "60000/60000 [==============================] - 10s 161us/sample - loss: 0.7381 - accuracy: 0.8206\n",
      "Epoch 3/10\n",
      "60000/60000 [==============================] - 10s 172us/sample - loss: 0.7036 - accuracy: 0.8249\n",
      "Epoch 4/10\n",
      "60000/60000 [==============================] - 10s 162us/sample - loss: 0.6817 - accuracy: 0.8281\n",
      "Epoch 5/10\n",
      "60000/60000 [==============================] - 8s 134us/sample - loss: 0.6692 - accuracy: 0.8295\n",
      "Epoch 6/10\n",
      "60000/60000 [==============================] - 7s 121us/sample - loss: 0.6573 - accuracy: 0.8306\n",
      "Epoch 7/10\n",
      "60000/60000 [==============================] - 7s 123us/sample - loss: 0.6455 - accuracy: 0.8329\n",
      "Epoch 8/10\n",
      "60000/60000 [==============================] - 7s 124us/sample - loss: 0.6364 - accuracy: 0.8346\n",
      "Epoch 9/10\n",
      "60000/60000 [==============================] - 7s 124us/sample - loss: 0.6323 - accuracy: 0.8360\n",
      "Epoch 10/10\n",
      "60000/60000 [==============================] - 7s 123us/sample - loss: 0.6248 - accuracy: 0.8377\n"
     ]
    },
    {
     "data": {
      "text/plain": [
       "<tensorflow.python.keras.callbacks.History at 0x217a1841188>"
      ]
     },
     "execution_count": 13,
     "metadata": {},
     "output_type": "execute_result"
    }
   ],
   "source": [
    "model1.fit(train_images, train_labels, epochs=10, batch_size=40)"
   ]
  },
  {
   "cell_type": "code",
   "execution_count": 14,
   "metadata": {
    "colab": {
     "base_uri": "https://localhost:8080/",
     "height": 374
    },
    "colab_type": "code",
    "id": "eu5jboxvoVXv",
    "outputId": "d14b8954-898b-465d-f218-03f92c2d0a09"
   },
   "outputs": [
    {
     "name": "stdout",
     "output_type": "stream",
     "text": [
      "Train on 60000 samples\n",
      "Epoch 1/10\n",
      "60000/60000 [==============================] - 10s 164us/sample - loss: 1.1537 - accuracy: 0.7891\n",
      "Epoch 2/10\n",
      "60000/60000 [==============================] - 8s 128us/sample - loss: 0.8407 - accuracy: 0.8118\n",
      "Epoch 3/10\n",
      "60000/60000 [==============================] - 8s 127us/sample - loss: 0.8046 - accuracy: 0.8128\n",
      "Epoch 4/10\n",
      "60000/60000 [==============================] - 7s 121us/sample - loss: 0.7687 - accuracy: 0.8185\n",
      "Epoch 5/10\n",
      "60000/60000 [==============================] - 7s 122us/sample - loss: 0.7452 - accuracy: 0.8231\n",
      "Epoch 6/10\n",
      "60000/60000 [==============================] - 7s 123us/sample - loss: 0.7400 - accuracy: 0.8222\n",
      "Epoch 7/10\n",
      "60000/60000 [==============================] - 11s 177us/sample - loss: 0.7300 - accuracy: 0.8245\n",
      "Epoch 8/10\n",
      "60000/60000 [==============================] - 11s 186us/sample - loss: 0.7193 - accuracy: 0.8245\n",
      "Epoch 9/10\n",
      "60000/60000 [==============================] - 8s 127us/sample - loss: 0.7091 - accuracy: 0.8267\n",
      "Epoch 10/10\n",
      "60000/60000 [==============================] - 7s 124us/sample - loss: 0.7052 - accuracy: 0.8260\n"
     ]
    },
    {
     "data": {
      "text/plain": [
       "<tensorflow.python.keras.callbacks.History at 0x217a25351c8>"
      ]
     },
     "execution_count": 14,
     "metadata": {},
     "output_type": "execute_result"
    }
   ],
   "source": [
    "model2 = keras.Sequential([\n",
    "    keras.layers.Flatten(input_shape=(28, 28)),\n",
    "    keras.layers.Dense(50, activation='tanh',kernel_regularizer=regularizers.l2(0.02),\n",
    "                activity_regularizer=regularizers.l1(0.02)),\n",
    "    keras.layers.Dense(10)\n",
    "])\n",
    "model2.compile(optimizer='adam',\n",
    "              loss=tf.keras.losses.SparseCategoricalCrossentropy(from_logits=True),\n",
    "              metrics=['accuracy'])\n",
    "\n",
    "model2.fit(train_images, train_labels, epochs=10, batch_size=40)"
   ]
  },
  {
   "cell_type": "code",
   "execution_count": 15,
   "metadata": {
    "colab": {
     "base_uri": "https://localhost:8080/",
     "height": 374
    },
    "colab_type": "code",
    "id": "-K6A1be7ojh_",
    "outputId": "b755a459-9ea7-4991-ab03-68b0daf226b2"
   },
   "outputs": [
    {
     "name": "stdout",
     "output_type": "stream",
     "text": [
      "Train on 60000 samples\n",
      "Epoch 1/10\n",
      "60000/60000 [==============================] - 8s 135us/sample - loss: 1.2962 - accuracy: 0.7873\n",
      "Epoch 2/10\n",
      "60000/60000 [==============================] - 7s 120us/sample - loss: 0.9358 - accuracy: 0.8049\n",
      "Epoch 3/10\n",
      "60000/60000 [==============================] - 7s 121us/sample - loss: 0.8768 - accuracy: 0.8089\n",
      "Epoch 4/10\n",
      "60000/60000 [==============================] - 8s 139us/sample - loss: 0.8424 - accuracy: 0.8130\n",
      "Epoch 5/10\n",
      "60000/60000 [==============================] - 8s 136us/sample - loss: 0.8244 - accuracy: 0.8139\n",
      "Epoch 6/10\n",
      "60000/60000 [==============================] - 7s 123us/sample - loss: 0.7961 - accuracy: 0.8183\n",
      "Epoch 7/10\n",
      "60000/60000 [==============================] - 7s 124us/sample - loss: 0.7727 - accuracy: 0.8218\n",
      "Epoch 8/10\n",
      "60000/60000 [==============================] - 8s 125us/sample - loss: 0.7713 - accuracy: 0.8204\n",
      "Epoch 9/10\n",
      "60000/60000 [==============================] - 7s 121us/sample - loss: 0.7566 - accuracy: 0.8238\n",
      "Epoch 10/10\n",
      "60000/60000 [==============================] - 8s 141us/sample - loss: 0.7466 - accuracy: 0.8243\n"
     ]
    },
    {
     "data": {
      "text/plain": [
       "<tensorflow.python.keras.callbacks.History at 0x217a28c25c8>"
      ]
     },
     "execution_count": 15,
     "metadata": {},
     "output_type": "execute_result"
    }
   ],
   "source": [
    "model3 = keras.Sequential([\n",
    "    keras.layers.Flatten(input_shape=(28, 28)),\n",
    "    keras.layers.Dense(50, activation='tanh',kernel_regularizer=regularizers.l2(0.03),\n",
    "                activity_regularizer=regularizers.l1(0.03)),\n",
    "    keras.layers.Dense(10)\n",
    "])\n",
    "model3.compile(optimizer='adam',\n",
    "              loss=tf.keras.losses.SparseCategoricalCrossentropy(from_logits=True),\n",
    "              metrics=['accuracy'])\n",
    "\n",
    "model3.fit(train_images, train_labels, epochs=10, batch_size=40)"
   ]
  },
  {
   "cell_type": "code",
   "execution_count": 16,
   "metadata": {
    "colab": {
     "base_uri": "https://localhost:8080/",
     "height": 374
    },
    "colab_type": "code",
    "id": "j3BFVfBwoxfZ",
    "outputId": "d2aa01a0-0187-46b1-c745-b6a57f0b81c6"
   },
   "outputs": [
    {
     "name": "stdout",
     "output_type": "stream",
     "text": [
      "Train on 60000 samples\n",
      "Epoch 1/10\n",
      "60000/60000 [==============================] - 28s 471us/sample - loss: 2.5792 - accuracy: 0.7768\n",
      "Epoch 2/10\n",
      "60000/60000 [==============================] - 21s 345us/sample - loss: 1.4407 - accuracy: 0.8014\n",
      "Epoch 3/10\n",
      "60000/60000 [==============================] - 21s 344us/sample - loss: 1.3241 - accuracy: 0.8125\n",
      "Epoch 4/10\n",
      "60000/60000 [==============================] - 20s 334us/sample - loss: 1.2761 - accuracy: 0.8136\n",
      "Epoch 5/10\n",
      "60000/60000 [==============================] - 20s 333us/sample - loss: 1.2399 - accuracy: 0.8173\n",
      "Epoch 6/10\n",
      "60000/60000 [==============================] - 21s 355us/sample - loss: 1.1989 - accuracy: 0.8202\n",
      "Epoch 7/10\n",
      "60000/60000 [==============================] - 26s 426us/sample - loss: 1.1968 - accuracy: 0.8219\n",
      "Epoch 8/10\n",
      "60000/60000 [==============================] - 21s 350us/sample - loss: 1.1817 - accuracy: 0.8221\n",
      "Epoch 9/10\n",
      "60000/60000 [==============================] - 21s 348us/sample - loss: 1.1611 - accuracy: 0.8233\n",
      "Epoch 10/10\n",
      "60000/60000 [==============================] - 21s 344us/sample - loss: 1.1597 - accuracy: 0.8237\n"
     ]
    },
    {
     "data": {
      "text/plain": [
       "<tensorflow.python.keras.callbacks.History at 0x217a34b0788>"
      ]
     },
     "execution_count": 16,
     "metadata": {},
     "output_type": "execute_result"
    }
   ],
   "source": [
    "model4 = keras.Sequential([\n",
    "    keras.layers.Flatten(input_shape=(28, 28)),\n",
    "    keras.layers.Dense(550, activation='tanh',kernel_regularizer=regularizers.l2(0.04),\n",
    "                activity_regularizer=regularizers.l1(0.04)),\n",
    "    keras.layers.Dense(10)\n",
    "])\n",
    "model4.compile(optimizer='adam',\n",
    "              loss=tf.keras.losses.SparseCategoricalCrossentropy(from_logits=True),\n",
    "              metrics=['accuracy'])\n",
    "\n",
    "model4.fit(train_images, train_labels, epochs=10, batch_size=40)"
   ]
  },
  {
   "cell_type": "code",
   "execution_count": null,
   "metadata": {
    "colab": {},
    "colab_type": "code",
    "id": "sajr0dWhpBu_"
   },
   "outputs": [],
   "source": []
  },
  {
   "cell_type": "code",
   "execution_count": null,
   "metadata": {},
   "outputs": [],
   "source": []
  }
 ],
 "metadata": {
  "colab": {
   "name": "ExperimentationFile.ipynb",
   "provenance": []
  },
  "kernelspec": {
   "display_name": "Python 3",
   "language": "python",
   "name": "python3"
  },
  "language_info": {
   "codemirror_mode": {
    "name": "ipython",
    "version": 3
   },
   "file_extension": ".py",
   "mimetype": "text/x-python",
   "name": "python",
   "nbconvert_exporter": "python",
   "pygments_lexer": "ipython3",
   "version": "3.7.4"
  }
 },
 "nbformat": 4,
 "nbformat_minor": 1
}
